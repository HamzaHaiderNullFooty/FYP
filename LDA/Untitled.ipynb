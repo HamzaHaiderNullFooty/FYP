{
 "cells": [
  {
   "cell_type": "code",
   "execution_count": 1,
   "metadata": {},
   "outputs": [
    {
     "data": {
      "text/html": [
       "<div>\n",
       "<style scoped>\n",
       "    .dataframe tbody tr th:only-of-type {\n",
       "        vertical-align: middle;\n",
       "    }\n",
       "\n",
       "    .dataframe tbody tr th {\n",
       "        vertical-align: top;\n",
       "    }\n",
       "\n",
       "    .dataframe thead th {\n",
       "        text-align: right;\n",
       "    }\n",
       "</style>\n",
       "<table border=\"1\" class=\"dataframe\">\n",
       "  <thead>\n",
       "    <tr style=\"text-align: right;\">\n",
       "      <th></th>\n",
       "      <th>description</th>\n",
       "    </tr>\n",
       "  </thead>\n",
       "  <tbody>\n",
       "    <tr>\n",
       "      <th>0</th>\n",
       "      <td>Product Version      : &lt;see about:version&gt;URLs...</td>\n",
       "    </tr>\n",
       "    <tr>\n",
       "      <th>1</th>\n",
       "      <td>Product Version      : 0.2.149.27 (1583)URLs (...</td>\n",
       "    </tr>\n",
       "    <tr>\n",
       "      <th>2</th>\n",
       "      <td>Product Version      : chrome beta 1URLs (if a...</td>\n",
       "    </tr>\n",
       "    <tr>\n",
       "      <th>3</th>\n",
       "      <td>Product Version      : 0.2.149.27 (1583)URLs (...</td>\n",
       "    </tr>\n",
       "    <tr>\n",
       "      <th>4</th>\n",
       "      <td>Product Version      : 0.2.149.27URLs (if appl...</td>\n",
       "    </tr>\n",
       "  </tbody>\n",
       "</table>\n",
       "</div>"
      ],
      "text/plain": [
       "                                         description\n",
       "0  Product Version      : <see about:version>URLs...\n",
       "1  Product Version      : 0.2.149.27 (1583)URLs (...\n",
       "2  Product Version      : chrome beta 1URLs (if a...\n",
       "3  Product Version      : 0.2.149.27 (1583)URLs (...\n",
       "4  Product Version      : 0.2.149.27URLs (if appl..."
      ]
     },
     "execution_count": 1,
     "metadata": {},
     "output_type": "execute_result"
    }
   ],
   "source": [
    "import pandas as pd\n",
    "dataset= pd.read_csv(\"classifier_data_0.csv\")\n",
    "dataset.drop(['Unnamed: 1','Unnamed: 2','Unnamed: 3','Unnamed: 4','Unnamed: 5','Unnamed: 6','Unnamed: 7','Unnamed: 8','Unnamed: 9'], axis=1, inplace = True)\n",
    "dataset.head()"
   ]
  },
  {
   "cell_type": "code",
   "execution_count": 2,
   "metadata": {},
   "outputs": [
    {
     "name": "stdout",
     "output_type": "stream",
     "text": [
      "(5000, 1)\n"
     ]
    }
   ],
   "source": [
    "len(dataset)\n",
    "print(dataset.shape)"
   ]
  },
  {
   "cell_type": "code",
   "execution_count": 3,
   "metadata": {},
   "outputs": [
    {
     "data": {
      "text/plain": [
       "\"Product Version      : <see about:version>URLs (if applicable) :0.2.149.27Other browsers tested: Firefox / IEAdd OK or FAIL after other browsers where you have tested this issue:Safari 3:    Firefox 3: OK         IE 7:OKWhat steps will reproduce the problem?1. Open any webpage on compaq 6715s running vista.2. Try scrolling with the touchpad3. Scrolling down will work , but up will not.What is the expected result?The page to scroll up.What happens instead?The page doesn't move.Please provide any additional information below. Attach a screenshot if possible.Only a minor bug. \""
      ]
     },
     "execution_count": 3,
     "metadata": {},
     "output_type": "execute_result"
    }
   ],
   "source": [
    "dataset['description'][0]"
   ]
  },
  {
   "cell_type": "code",
   "execution_count": 4,
   "metadata": {},
   "outputs": [
    {
     "data": {
      "text/plain": [
       "<5000x12306 sparse matrix of type '<class 'numpy.int64'>'\n",
       "\twith 200567 stored elements in Compressed Sparse Row format>"
      ]
     },
     "execution_count": 4,
     "metadata": {},
     "output_type": "execute_result"
    }
   ],
   "source": [
    "from sklearn.feature_extraction.text import CountVectorizer\n",
    "cv= CountVectorizer(max_df=0.95,min_df=2,stop_words=\"english\")\n",
    "dtm= cv.fit_transform(dataset['description'])\n",
    "dtm"
   ]
  },
  {
   "cell_type": "code",
   "execution_count": 5,
   "metadata": {},
   "outputs": [
    {
     "data": {
      "text/plain": [
       "LatentDirichletAllocation(n_components=150, random_state=42)"
      ]
     },
     "execution_count": 5,
     "metadata": {},
     "output_type": "execute_result"
    }
   ],
   "source": [
    "from sklearn.decomposition import LatentDirichletAllocation\n",
    "LDA = LatentDirichletAllocation(n_components=150, random_state=42)\n",
    "LDA.fit(dtm)"
   ]
  },
  {
   "cell_type": "code",
   "execution_count": 6,
   "metadata": {},
   "outputs": [
    {
     "data": {
      "text/plain": [
       "12306"
      ]
     },
     "execution_count": 6,
     "metadata": {},
     "output_type": "execute_result"
    }
   ],
   "source": [
    "len(cv.get_feature_names())"
   ]
  },
  {
   "cell_type": "code",
   "execution_count": 7,
   "metadata": {},
   "outputs": [
    {
     "data": {
      "text/plain": [
       "list"
      ]
     },
     "execution_count": 7,
     "metadata": {},
     "output_type": "execute_result"
    }
   ],
   "source": [
    "type(cv.get_feature_names())"
   ]
  },
  {
   "cell_type": "code",
   "execution_count": null,
   "metadata": {},
   "outputs": [],
   "source": []
  },
  {
   "cell_type": "code",
   "execution_count": 8,
   "metadata": {},
   "outputs": [
    {
     "name": "stdout",
     "output_type": "stream",
     "text": [
      "lynx\n",
      "esp\n",
      "trailing\n",
      "2677\n",
      "simplehttpserver\n",
      "allocator\n",
      "dave\n",
      "tell\n",
      "forbids\n",
      "95\n"
     ]
    }
   ],
   "source": [
    "import random\n",
    "for i in range(10):\n",
    "    random_word_id=random.randint(0,12306)\n",
    "    print(cv.get_feature_names()[random_word_id])"
   ]
  },
  {
   "cell_type": "code",
   "execution_count": 9,
   "metadata": {},
   "outputs": [
    {
     "data": {
      "text/plain": [
       "array([[0.00666667, 0.00666667, 0.00666667, ..., 0.00666667, 0.00666667,\n",
       "        0.00666667],\n",
       "       [0.00666667, 0.00666667, 0.00666667, ..., 0.00666667, 0.00666667,\n",
       "        0.00666667],\n",
       "       [0.00666667, 0.00666667, 0.00666667, ..., 0.00666667, 0.00666667,\n",
       "        0.00666667],\n",
       "       ...,\n",
       "       [0.00666667, 0.00666667, 0.00666667, ..., 0.00666667, 0.00666667,\n",
       "        0.00666667],\n",
       "       [0.00666667, 2.00666667, 0.00666667, ..., 0.00666667, 0.00666667,\n",
       "        2.00666667],\n",
       "       [0.00666667, 0.00666667, 0.00666667, ..., 0.00666667, 0.00666667,\n",
       "        0.00666667]])"
      ]
     },
     "execution_count": 9,
     "metadata": {},
     "output_type": "execute_result"
    }
   ],
   "source": [
    "LDA.components_"
   ]
  },
  {
   "cell_type": "code",
   "execution_count": 10,
   "metadata": {},
   "outputs": [
    {
     "data": {
      "text/plain": [
       "array([    0,  8130,  8131, ...,  7148, 10501,  3498])"
      ]
     },
     "execution_count": 10,
     "metadata": {},
     "output_type": "execute_result"
    }
   ],
   "source": [
    "single_topic=LDA.components_[0]\n",
    "single_topic.argsort()"
   ]
  },
  {
   "cell_type": "code",
   "execution_count": 11,
   "metadata": {},
   "outputs": [],
   "source": [
    "#least representative\n",
    "single_topic[10666]\n",
    "#most representative\n",
    "single_topic[3498]\n",
    "top_word_indices= single_topic.argsort()[-10:]"
   ]
  },
  {
   "cell_type": "code",
   "execution_count": 12,
   "metadata": {},
   "outputs": [
    {
     "name": "stdout",
     "output_type": "stream",
     "text": [
      "build\n",
      "browser\n",
      "self\n",
      "functional\n",
      "py\n",
      "file\n",
      "test\n",
      "line\n",
      "src\n",
      "chrome\n"
     ]
    }
   ],
   "source": [
    "for index in top_word_indices:\n",
    "    print(cv.get_feature_names()[index])"
   ]
  },
  {
   "cell_type": "code",
   "execution_count": 13,
   "metadata": {},
   "outputs": [
    {
     "name": "stdout",
     "output_type": "stream",
     "text": [
      "THE TOP 15 WORDS FOR TOPIC #0\n",
      "['git', 'notifications', 'pyautolib', 'volumes', 'pyauto', 'build', 'browser', 'self', 'functional', 'py', 'file', 'test', 'line', 'src', 'chrome']\n",
      "\n",
      "\n",
      "THE TOP 15 WORDS FOR TOPIC #1\n",
      "['sync', 'sr', 'cc', 'extension', 'build', 'pair', 'internal', 'uilder', 'src', 'protobuf', 'const', 'google', 'int', 'syncable', 'std']\n",
      "\n",
      "\n",
      "THE TOP 15 WORDS FOR TOPIC #2\n",
      "['request', 'id', '32', 'console', 'mov', 'click', '150', 'bytes', '192', '168', 'installer', 'chrome', 'time', 'push', 'setup']\n",
      "\n",
      "\n",
      "THE TOP 15 WORDS FOR TOPIC #3\n",
      "['right', 'make', 'bug', 'doing', 'work', 'probably', 'http', 'display', 'using', 'away', 'compositor', 'windows', '3d', 'instead', 'page']\n",
      "\n",
      "\n",
      "THE TOP 15 WORDS FOR TOPIC #4\n",
      "['src', 'base', 'bindings', 'core', 'cc', 'content', 'const', 'cpp', 'wtf', 'content_browsertests', 'source', 'webcore', 'third_party', 'webkit', 'v8']\n",
      "\n",
      "\n",
      "THE TOP 15 WORDS FOR TOPIC #5\n",
      "['provide', 'information', 'chrome', 'additional', 'menu', 'drop', 'print', 'output', 'dialog', 'steps', 'reproduce', 'text', 'problem', 'expected', 'instead']\n",
      "\n",
      "\n",
      "THE TOP 15 WORDS FOR TOPIC #6\n",
      "['data', 'method', 'transient', 'ability', 'xml', 'size', 'match', 'save', 'used', 'needed', 'set', 'load', 'form', 'small', 'file']\n",
      "\n",
      "\n",
      "THE TOP 15 WORDS FOR TOPIC #7\n",
      "['cc', 'libxml', 'base', 'src', 'const', 'core', 'parser', 'cpp', 'webkit', 'webcore', 'content', 'source', 'third_party', '00', 'fa']\n",
      "\n",
      "\n",
      "THE TOP 15 WORDS FOR TOPIC #8\n",
      "['library', 'bin', 'zope', 'package', 'packages', 'nvidia', 'python', 'compiling', 'file', 'upstream', 'seaboard', 'tegra2', 'build', 'board', 'r2']\n",
      "\n",
      "\n",
      "THE TOP 15 WORDS FOR TOPIC #9\n",
      "['connection', '04', 'ibus', 'info', 'stdout', 'stderr', '0817', 'debug', 'cc', '02', '08', 'utils', 'error', '26', '17']\n",
      "\n",
      "\n",
      "THE TOP 15 WORDS FOR TOPIC #10\n",
      "['git', 'pull', 'urlwhat', 'included', 'manage', 'marked', 'djmm', 'crostools', 'end', 'google', 'typed', 'type', 'file', 'line', 'text']\n",
      "\n",
      "\n",
      "THE TOP 15 WORDS FOR TOPIC #11\n",
      "['int', 'webkit', 'blink', 'chrome_child', 'const', 'string', 'value', 'cpp', 'cc', 'object', 'handle', 'src', 'webcore', 'internal', 'v8']\n",
      "\n",
      "\n",
      "THE TOP 15 WORDS FOR TOPIC #12\n",
      "['debugging', 'codereview', 'initialize', 'application', 'chrome', 'text', 'version', 'size', 'smaller', 'd8', 'causing', 'doesn', 'lot', 'font', 'properly']\n",
      "\n",
      "\n",
      "THE TOP 15 WORDS FOR TOPIC #13\n",
      "['know', 'options', 'language', 'restart', 'vpn', 'languages', 'folder', 'user', 'default', 'file', 'username', 'plugin', 'manager', 'chrome', 'option']\n",
      "\n",
      "\n",
      "THE TOP 15 WORDS FOR TOPIC #14\n",
      "['operation', 'org', 'flimflam', 'compile', 'exception', 'dbus', 'try', 'chromium', 'fail', 'message', 'variable', 'set', 'failed', 'errors', 'error']\n",
      "\n",
      "\n",
      "THE TOP 15 WORDS FOR TOPIC #15\n",
      "['connect', 'http', 'bug', 'cl', 'patch', 'remove', 'make', 'makes', 'clean', 'vpn', 'pin', 'change', 'org', 'chromium', 'gerrit']\n",
      "\n",
      "\n",
      "THE TOP 15 WORDS FOR TOPIC #16\n",
      "['evil', 'verbose1', 'verity', 'http', 'portage', 'test', 'x11', 'r33', 'com', 'cc', '20', 'xorg', 'usr', 'cmt', 'drivers']\n",
      "\n",
      "\n",
      "THE TOP 15 WORDS FOR TOPIC #17\n",
      "['os', 'button', 'steps1', 'expected', 'wrench', 'signing', 'cashewd', 'signed', 'active', 'firmware', 'error', 'google', 'sync', 'sign', 'account']\n",
      "\n",
      "\n",
      "THE TOP 15 WORDS FOR TOPIC #18\n",
      "['messageloop', 'browser', 'message', 'renderviewhost', 'chrome', 'ipc', 'void', 'base', 'cc', 'char_traits', 'basic_string', 'allocator', 'const', 'char', 'std']\n",
      "\n",
      "\n",
      "THE TOP 15 WORDS FOR TOPIC #19\n",
      "['thread', 'stacktrace', 'chrome_child', '11', 'anonymous', 'namespace', 'logmessage', 'void', 'debug', 'internal', 'content', 'run', 'messageloop', 'cc', 'base']\n",
      "\n",
      "\n",
      "THE TOP 15 WORDS FOR TOPIC #20\n",
      "['information', 'provide', 'video', 'file', '14', 'steps', 'computer', 'output', 'reproduce', 'expected', 'problem', 'instead', 'os', 'chrome', 'version']\n",
      "\n",
      "\n",
      "THE TOP 15 WORDS FOR TOPIC #21\n",
      "['developer', 'armv7a', 'gnueabi', 'cros', 'org', 'chrome', 'linux', 'version', 'gcc', 'tegra2_seaboard', 'build', 'chromeos', 'google', 'chromium', 'boot']\n",
      "\n",
      "\n",
      "THE TOP 15 WORDS FOR TOPIC #22\n",
      "['run', 'doesn', 'menuwhat', 'content', 'windows', 'don', 'set', 'manually', 'candidate', 'webgl', 'personal', 'auto', 'stuff', '472', 'chrome']\n",
      "\n",
      "\n",
      "THE TOP 15 WORDS FOR TOPIC #23\n",
      "['gpu', 'libavcodec', 'expression', 'servers', 'patched', 'third_party', 'chrome', 'src', 'aki', 'home', 'ffmpeg', 'release', '00', 'chromium', 'optimized']\n",
      "\n",
      "\n",
      "THE TOP 15 WORDS FOR TOPIC #24\n",
      "['policies', 'know', '13', 'issue', 'signer', 'login', 'default', 'log', 'browser', 'true', 'socket', 'run', 'gmail', 'webui', 'chrome']\n",
      "\n",
      "\n",
      "THE TOP 15 WORDS FOR TOPIC #25\n",
      "['letter', 'style', 'setattribute', 'class', 'pad', 'catch', 'try', 'mario', '811', '14', 'documentelement', 'createelement', 'appendchild', 'nodes', 'document']\n",
      "\n",
      "\n",
      "THE TOP 15 WORDS FOR TOPIC #26\n",
      "['clients2', 'list', 'https', 'service', 'latest', 'typing', 'apps', 'crx', 'install', 'user', 'domain', 'loaded', 'cursor', 'google', 'com']\n",
      "\n",
      "\n",
      "THE TOP 15 WORDS FOR TOPIC #27\n",
      "['135', 'leaked', 'build', 'src', 'type', 'observer', 'chromium', 'chrome', 'cc', 'common', 'info', 'builder', 'dbg', 'mac', 'notification']\n",
      "\n",
      "\n",
      "THE TOP 15 WORDS FOR TOPIC #28\n",
      "['issue', 'official', 'expected', 'build', 'engines', 'specific', 'platform', 'default', 'chrome', 'version', '1847', '34', 'beta', 'engine', 'search']\n",
      "\n",
      "\n",
      "THE TOP 15 WORDS FOR TOPIC #29\n",
      "['use', 'work', 'pressing', 'value', 'ime', 'keys', 'shift', 'focus', 'type', 'alt', 'key', 'ctrl', 'keyboard', 'press', 'input']\n",
      "\n",
      "\n",
      "THE TOP 15 WORDS FOR TOPIC #30\n",
      "['jobs', 'scripts', 'crostestutils', 'platform', 'self', 'py', 'zgb', 'line', 'file', 'src', 'alex', 'private', 'cbuild', 'bin', 'x86']\n",
      "\n",
      "\n",
      "THE TOP 15 WORDS FOR TOPIC #31\n",
      "['code', 'a1', 'switch', 'results', 'test', 'r15', 'boot', 'times', 'like', 'mario', 'x86', 'resources', 'time', '15', 'look']\n",
      "\n",
      "\n",
      "THE TOP 15 WORDS FOR TOPIC #32\n",
      "['failed', 'xp', 'dbg', 'actual', 'run', 'rel', 'chrome', 'browser', 'error', 'src', 'cc', 'slave', 'test', 'chromium', 'build']\n",
      "\n",
      "\n",
      "THE TOP 15 WORDS FOR TOPIC #33\n",
      "['crashed', 'messagepumpcfrunloopbase', 'base', 'crash', 'hitoolbox', 'nsapplication', 'message_loop', 'message_pump_mac', 'corefoundation', 'appkit', 'mm', 'cc', 'framework', 'chrome', 'google']\n",
      "\n",
      "\n",
      "THE TOP 15 WORDS FOR TOPIC #34\n",
      "['https', 'google', 'example', 'codesearch', 'com', 'browser', 'code', 'test', 'enabled', 'policy', 'chrome', 'default', 'multi', 'profiles', 'chromium']\n",
      "\n",
      "\n",
      "THE TOP 15 WORDS FOR TOPIC #35\n",
      "['variable', 'lib', 'script', 'local', 'assigned', 'line', 'usr', 'imported', 'file', 'backendio', 'port', 'py', 'disk_cache', 'uilder', 'build']\n",
      "\n",
      "\n",
      "THE TOP 15 WORDS FOR TOPIC #36\n",
      "['cookiemonster', 'connectiontestertest', 'char_traits', 'basic_string', 'run', 'renderviewtest', 'cc', 'messageloop', 'const', 'net', 'allocator', 'char', 'base', 'fun', 'std']\n",
      "\n",
      "\n",
      "THE TOP 15 WORDS FOR TOPIC #37\n",
      "['461', 'powerd_metrics', 'mode', 'xid', 'sending', 'metric', 'monitor_reconfigure', 'power', 'setting', 'backlight_controller', 'brightness', 'powerd', '0719', 'cc', 'info']\n",
      "\n",
      "\n",
      "THE TOP 15 WORDS FOR TOPIC #38\n",
      "['issues', 'mac', 'win', 'looks', 'changeset', 'like', 'https', 'trac', 'bug', 'www', 'com', 'webkit', 'chromium', 'org', 'http']\n",
      "\n",
      "\n",
      "THE TOP 15 WORDS FOR TOPIC #39\n",
      "['libglib', 'gpucommandbufferstub', 'gpuscheduler', '2600', 'message_pump_glib', 'command_buffer', 'service', 'context', 'common', 'content', 'cc', 'base', 'i915_dri', 'chrome', 'gpu']\n",
      "\n",
      "\n",
      "THE TOP 15 WORDS FOR TOPIC #40\n",
      "['service', 'modem', 'org', '01', 'info', 'codereview', '15', '19', 'dnsmastertest', '50', 'sync', 'test', 'browser', 'chromium', 'renderviewtest']\n",
      "\n",
      "\n",
      "THE TOP 15 WORDS FOR TOPIC #41\n",
      "['using', 'chinese', 'steps', 'users', 'infobar', 'app', 'result', 'reproduce', 'language', 'page', 'com', 'translate', 'displayed', 'chrome', 'google']\n",
      "\n",
      "\n",
      "THE TOP 15 WORDS FOR TOPIC #42\n",
      "['avoid', 'rid', 'chrome', 'implement', 'merge', 'hack', 'used', 'size', 'downloaded', 'use', 'want', 'download', 'currently', 'need', 'files']\n",
      "\n",
      "\n",
      "THE TOP 15 WORDS FOR TOPIC #43\n",
      "['sending', 'commit', 'tools', '110', 'response', 'page', 'status', 'read', 'command', 'py', 'telemetry', 'write', 'error', 'file', 'line']\n",
      "\n",
      "\n",
      "THE TOP 15 WORDS FOR TOPIC #44\n",
      "['right', 'opens', 'bar', 'click', 'steps', 'windows', 'reproduce', 'browser', 'page', 'close', 'tabs', 'open', 'new', 'window', 'tab']\n",
      "\n",
      "\n",
      "THE TOP 15 WORDS FOR TOPIC #45\n",
      "['editor', 'node', 'dom', 'slave', 'editing', 'build', 'depot_tools', 'cpp', 'source', 'media', 'third_party', 'src', 'chromium', 'webcore', 'webkit']\n",
      "\n",
      "\n",
      "THE TOP 15 WORDS FOR TOPIC #46\n",
      "['0801', 'rel', 'tsan', 'mac6', '2307', 'http', 'sub', 'info', 'spdy_session', 'slave', 'spdy', 'src', 'cc', 'build', 'net']\n",
      "\n",
      "\n",
      "THE TOP 15 WORDS FOR TOPIC #47\n"
     ]
    },
    {
     "name": "stdout",
     "output_type": "stream",
     "text": [
      "['send', 'pseudomodem', 'vm', 'don', 'connect', 'wrapper', 'fail', 'passed', 'kvm', 'combined', 'black', 'color', 'theme', 'control', 'tmp']\n",
      "\n",
      "\n",
      "THE TOP 15 WORDS FOR TOPIC #48\n",
      "['activated', 'controls', 'wheel', 'kernel', 'visited', 'clicked', 'chrome', 'copy', 'item', 'mouse', 'applet', 'button', 'menu', 'java', 'dropdown']\n",
      "\n",
      "\n",
      "THE TOP 15 WORDS FOR TOPIC #49\n",
      "['base', 'const', 'cc', 'gtest', 'net', 'ild', 'long', 'short', 'buildd', '12', 'security', 'lib', 'mozilla', 'unsigned', 'nss']\n",
      "\n",
      "\n",
      "THE TOP 15 WORDS FOR TOPIC #50\n",
      "['just', 'function', 'build', 'use', 'changed', 'logging', 'line', 'windows', 'json', 'critical', 'mock', 'permissions', 'open', 'main', 'volume']\n",
      "\n",
      "\n",
      "THE TOP 15 WORDS FOR TOPIC #51\n",
      "['just', '68', '13', 'instead', '16', 'opera', '10', '11', 'interface', 'image', 'safari', 'end', 'file', 'line', 'chrome']\n",
      "\n",
      "\n",
      "THE TOP 15 WORDS FOR TOPIC #52\n",
      "['ev', 'ctrl', 'external', 'problem', 'file', 'page', 'background', 'dns', 'open', 'web', 'attached', 'version', 'store', 'certificate', 'chrome']\n",
      "\n",
      "\n",
      "THE TOP 15 WORDS FOR TOPIC #53\n",
      "['intel', 'reproduce', 'quicktime', 'steps', 'chrome', 'list', 'problem', 'page', 'open', 'version', 'click', 'bar', 'bookmark', 'bookmarks', 'folder']\n",
      "\n",
      "\n",
      "THE TOP 15 WORDS FOR TOPIC #54\n",
      "['notreached', 'reload', 'separate', 'doesn', 'great', 'css', 'clear', 'devtools', 'background', 'tab', 'word', 'hover', 'element', 'page', 'elements']\n",
      "\n",
      "\n",
      "THE TOP 15 WORDS FOR TOPIC #55\n",
      "['legacy', 'work', 'install', 'sudo', 'video', 'bin', 'wheel', 'factory', 'configuration', 'shell', 'credit', 'use', 'scrolling', 'card', 'firmware']\n",
      "\n",
      "\n",
      "THE TOP 15 WORDS FOR TOPIC #56\n",
      "['feature', 'known', 'bug', 'running', 'router', 'make', 'computer', 'build', 'os', 'official', 'version', 'model', 'chrome', 'network', 'type']\n",
      "\n",
      "\n",
      "THE TOP 15 WORDS FOR TOPIC #57\n",
      "['safari', 'reproduce', 'screenshot', 'expected', 'problem', 'steps', 'instead', 'applicable', 'firefox', 'happens', 'result', 'version', 'ok', 'browsers', 'tested']\n",
      "\n",
      "\n",
      "THE TOP 15 WORDS FOR TOPIC #58\n",
      "['cros', 'code', 'scripts', 'server', '11', 'third_party', 'chromiumos', 'x86', 'overlays', 'bot', 'chrome', 'src', 'trunk', 'overlay', 'home']\n",
      "\n",
      "\n",
      "THE TOP 15 WORDS FOR TOPIC #59\n",
      "['security', 'flow', 'log', 'memory', 'new', 'changes', 'work', 'vulnerability', 'prefix', 'make', 'alex', 'code', 'oobe', 'boot', 'login']\n",
      "\n",
      "\n",
      "THE TOP 15 WORDS FOR TOPIC #60\n",
      "['base', 'unsigned', 'messageloop', 'kernel32', 'git', 'sources', 'ntdll', 'new', 'message_loop', 'int', 'const', 'exe', 'cc', 'chrome', 'dll']\n",
      "\n",
      "\n",
      "THE TOP 15 WORDS FOR TOPIC #61\n",
      "['webm', 'use', 'new', 'click', 'content', 'google', 'debug', 'browser', 'space', 'group', 'added', 'possible', 'sync', 'code', 'date']\n",
      "\n",
      "\n",
      "THE TOP 15 WORDS FOR TOPIC #62\n",
      "['bool', 'unsigned', 'message_loop', 'src', 'namespace', 'anonymous', 'filepath', 'testing', 'messageloop', 'cc', 'void', 'base', 'const', 'int', 'std']\n",
      "\n",
      "\n",
      "THE TOP 15 WORDS FOR TOPIC #63\n",
      "['client', 'output', 'isit', 'os', 'impact', 'toreproduce', 'frequently', 'version', 'workaround', 'hard', 'user', 'does', 'chrome', 'problem', 'reproduce']\n",
      "\n",
      "\n",
      "THE TOP 15 WORDS FOR TOPIC #64\n",
      "['traceback', 'recent', 'slave', 'lib', 'x86', 'buildbot', 'generic', 'arm', 'self', 'bin', 'chromite', 'build', 'line', 'py', 'file']\n",
      "\n",
      "\n",
      "THE TOP 15 WORDS FOR TOPIC #65\n",
      "['introduced', 'remove', 'layout', 'updated', 'dependency', 'use', 'upload', 'pass', 'cause', 'check', 'new', 'implementation', 'fix', 'need', 'needs']\n",
      "\n",
      "\n",
      "THE TOP 15 WORDS FOR TOPIC #66\n",
      "['ffmpeg', '13', 'crashes', 'platform_thread_posix', 'devices', 'address', 'base', 'eglibc', '10', 'audio', '11', 'asan', 'sysinfo', 'cc', 'fa']\n",
      "\n",
      "\n",
      "THE TOP 15 WORDS FOR TOPIC #67\n",
      "['reproduce', 'game', 'pop', 'right', 'click', 'window', '49', '39', 'build', 'left', '33', '159', 'adobe', '10', 'flash']\n",
      "\n",
      "\n",
      "THE TOP 15 WORDS FOR TOPIC #68\n",
      "['host', 'unused', 'obj', 'error', 'third_party', 'r1', '836', '15', 'google', 'release', 'src', 'fno', 'chrome', 'wno', 'protobuf']\n",
      "\n",
      "\n",
      "THE TOP 15 WORDS FOR TOPIC #69\n",
      "['0x1e', 'message', 'renderblock', 'ipc', 'paint', 'tx', 'const', 'renderobject', 'bytesc', 'paintinfo', 'int', 'dll', 'line', 'chrome', 'webcore']\n",
      "\n",
      "\n",
      "THE TOP 15 WORDS FOR TOPIC #70\n",
      "['right', 'like', 'steps', 'expected', 'hard', 'provide', 'progress', 'reproduce', 'information', 'use', 'problem', 'disk', 'proxy', 'version', 'chrome']\n",
      "\n",
      "\n",
      "THE TOP 15 WORDS FOR TOPIC #71\n",
      "['unnamed', 'internal', 'app', '10', 'content', 'crash', 'taskclosureadapter', 'void', 'browser', 'ipc', 'messageloop', 'message_loop', 'base', 'cc', 'chrome']\n",
      "\n",
      "\n",
      "THE TOP 15 WORDS FOR TOPIC #72\n",
      "['renderobject', 'node', 'thread', 'unsigned', 'bool', 'int', 'std', 'char', 'messageloop', 'base', 'wtf', 'const', 'fa', 'fd', 'webcore']\n",
      "\n",
      "\n",
      "THE TOP 15 WORDS FOR TOPIC #73\n",
      "['55', '03', '56', 'x86', '5500', 'dev', '5116', 'beta', 'stable', '003', '713', '41', 'info', 'channel', '12']\n",
      "\n",
      "\n",
      "THE TOP 15 WORDS FOR TOPIC #74\n",
      "['omaha', 'recovery', 'type', 'v2', 'google', 'renderer', 'djmm', '25', '13', 'google3', 'v1', '16', 'debug', '02', 'download']\n",
      "\n",
      "\n",
      "THE TOP 15 WORDS FOR TOPIC #75\n",
      "['0xf0', 'pair', 'info', 'navigationcontroller', '_tmap_traits', 'safe_browsing', 'tab_capture_performance_tests', 'chromiumgpu', 'localhost', 'syntax', 'testframetickgpu', '_tree', 'chromeviews', 'address', '07']\n",
      "\n",
      "\n",
      "THE TOP 15 WORDS FOR TOPIC #76\n",
      "['intrect', 'bool', 'unsigned', 'renderblockflow', 'int', 'rendering', 'fun', 'const', 'wtf', 'core', 'third_party', 'webkit', 'source', 'cpp', 'webcore']\n",
      "\n",
      "\n",
      "THE TOP 15 WORDS FOR TOPIC #77\n",
      "['requests', 'developer', 'component_loader', 'cc', 'profile', 'startup', 'browser', 'load', 'add', 'click', 'api', 'manifest', 'chrome', 'extensions', 'extension']\n",
      "\n",
      "\n",
      "THE TOP 15 WORDS FOR TOPIC #78\n",
      "['load', 'account', 'user', 'page', 'layer', 'profile', 'state', 'chrome', 'tot', 'value', 'networks', '50', '5mb', 'settings', 'animation']\n",
      "\n",
      "\n",
      "THE TOP 15 WORDS FOR TOPIC #79\n",
      "['string', 'console', 'virtual', 'size_t', 'clipboard_aura', 'void', '000000', 'ui', 'const', '1014', 'clipboard', 'reached', 'error', 'cc', 'implemented']\n",
      "\n",
      "\n",
      "THE TOP 15 WORDS FOR TOPIC #80\n",
      "['browsers', 'chrome', 'click', 'scrolling', 'resultthe', 'using', 'page', 'reproduce', 'steps', 'version', 'expected', 'happens', 'applicable', 'mouse', 'scroll']\n",
      "\n",
      "\n",
      "THE TOP 15 WORDS FOR TOPIC #81\n",
      "['sp2', 'shows', 'process', '1540', 'google', 'complete', 'ja', 'running', 'open', 'xp', 'windows', 'language', 'chrome', 'repro', 'incognito']\n",
      "\n",
      "\n",
      "THE TOP 15 WORDS FOR TOPIC #82\n",
      "['renderviewhost', 'bool', 'taskclosureadapter', 'base', 'subtle', 'int', 'channelproxy', 'context', 'void', 'onmessagereceived', 'message', 'const', 'ipc', 'chromium', 'framework']\n",
      "\n",
      "\n",
      "THE TOP 15 WORDS FOR TOPIC #83\n",
      "['chrome', 'replace', 'reason', 'copy', '13', 'related', 'new', 'ssd', 'timeout', 'stick', 'run', 'storage', 'devices', 'device', 'usb']\n",
      "\n",
      "\n",
      "THE TOP 15 WORDS FOR TOPIC #84\n",
      "['detailed', 'key', 'download', 'report', 'state', 'address', 'stack', 'crash', 'testcase', 'type', 'fuzz', 'cluster', 'appspot', 'com', 'https']\n",
      "\n",
      "\n",
      "THE TOP 15 WORDS FOR TOPIC #85\n",
      "['0817', 'dom', 'tests', 'focus', 'events', 'layout', 'forms', 'script', 'test', 'canvas', 'layouttests', 'event', 'crash', 'fast', 'html']\n",
      "\n",
      "\n",
      "THE TOP 15 WORDS FOR TOPIC #86\n",
      "['cancel', 'folders', 'mp', 'y17059', 'don', 'cookies', 'enable', 'think', 'api', 'message', 'chrome', 'disk', 'switches', 'client', 'block']\n",
      "\n",
      "\n",
      "THE TOP 15 WORDS FOR TOPIC #87\n",
      "['crt', 'chrome', 'host', 'instead', '651', 'version', 'cursor', 'files', 'src', 'home', 'browserwhat', 'crash', 'media', 'file', 'browser']\n",
      "\n",
      "\n",
      "THE TOP 15 WORDS FOR TOPIC #88\n",
      "['root', 'succeeded', 'usr', 'file', 'lib', 'libgcc_s', 'lines', 'test', 'gnu', 'i686', 'pc', 'gcc', 'linux', '0x0', 'browser_tests']\n",
      "\n",
      "\n",
      "THE TOP 15 WORDS FOR TOPIC #89\n",
      "['right', 'header', 'vga', 'add', 'driver', 'version', '495', 'google', 'new', 'chrome', 'click', 'options', '534', 'entries', 'autofill']\n",
      "\n",
      "\n",
      "THE TOP 15 WORDS FOR TOPIC #90\n",
      "['chrome', 'wifi', 'network_3gsmoketest', 'local', 'attribute', 'py', 'read', 'test', 'line', 'usr', 'var', 'file', 'true', 'autotest', 'null']\n",
      "\n",
      "\n",
      "THE TOP 15 WORDS FOR TOPIC #91\n",
      "['message', 'gallery', 'properties', 'title', 'type', 'interface', 'send', 'pid', 'comm', 'uid', '1000', 'unset', 'chrome', 'dbus', 'error']\n",
      "\n",
      "\n",
      "THE TOP 15 WORDS FOR TOPIC #92\n",
      "['following', 'job', 'newly', 'example', 'new', 'composited', 'time', 'background', 'js', 'htmllayouttests', 'fast', 'created', 'application', 'create', 'shortcut']\n",
      "\n",
      "\n",
      "THE TOP 15 WORDS FOR TOPIC #93\n"
     ]
    },
    {
     "name": "stdout",
     "output_type": "stream",
     "text": [
      "['src', '15', 'dsym', 'release', 'xcodebuild', 'canary', 'framework', 'browser', 'slave', 'app', 'mac', 'official', 'build', 'google', 'chrome']\n",
      "\n",
      "\n",
      "THE TOP 15 WORDS FOR TOPIC #94\n",
      "['add', 'existing', 'cc', 'issue', 'track', 'code', 'currently', 'removed', 'linux', 'aura', 'need', 'bug', 'plugin', 'plugins', 'support']\n",
      "\n",
      "\n",
      "THE TOP 15 WORDS FOR TOPIC #95\n",
      "['remove', 'default', 'use', 'config', 'flags', 'portage', 'make', 'work', 'used', 'enable', 'text', '22', 'app', 'disable', 'flag']\n",
      "\n",
      "\n",
      "THE TOP 15 WORDS FOR TOPIC #96\n",
      "['run', 'messagepumpforio', 'void', 'dll', 'messagepumpwin', 'browser_sync', 'chromium1', '__thiscall', 'messageloop', 'bytesc', 'httpcache', 'line', 'src', 'base', 'net']\n",
      "\n",
      "\n",
      "THE TOP 15 WORDS FOR TOPIC #97\n",
      "['result', 'applicable', 'steps', 'happens', 'reproduce', 'problem', 'fail', 'version', 'safari', 'issue', 'firefox', 'http', 'tested', 'browsers', 'ok']\n",
      "\n",
      "\n",
      "THE TOP 15 WORDS FOR TOPIC #98\n",
      "['value', 'chromium', 'gurl', 'ipc', 'uilder', 'valgrind', 'slave', 'int', 'const', 'fun', 'chrome', 'cc', 'build', 'src', 'browser']\n",
      "\n",
      "\n",
      "THE TOP 15 WORDS FOR TOPIC #99\n",
      "['work', 'easier', 'return', 'need', 'file', 'browser', 'default', 'path', 'dpi', 'high', 'issue', 'chrome', 'page', 'telemetry', 'tools']\n",
      "\n",
      "\n",
      "THE TOP 15 WORDS FOR TOPIC #100\n",
      "['main', '_s_construct', 'bytes', 'allocated', 'basic_string', 'chromium', 'ccchrome', 'objects', 'test', 'internal', 'std', 'browser', 'string', 'testing', 'run']\n",
      "\n",
      "\n",
      "THE TOP 15 WORDS FOR TOPIC #101\n",
      "['00', 'dropped', 'using', 'usb', '2014', 'moblab', 'localhost', '03', '30', 'dongle', 'waiting', 'ethernet', 'network', 'connection', 'init']\n",
      "\n",
      "\n",
      "THE TOP 15 WORDS FOR TOPIC #102\n",
      "['js', 'service', 'chrome', 'verbose1', '403', '217', '204', 'error', 'id', 'drive', 'resource', '1799', 'getting', 'cc', 'root']\n",
      "\n",
      "\n",
      "THE TOP 15 WORDS FOR TOPIC #103\n",
      "['memcheck', '20', '29', 'builders', 'builds', 'http', 'build', 'error', 'base', 'org', 'valgrind', 'cc', 'memory', 'chromium', 'fun']\n",
      "\n",
      "\n",
      "THE TOP 15 WORDS FOR TOPIC #104\n",
      "['11', 'system_api', '802', 'panel', '782', 'ajax', 'layer', 'chrome', '20', 'hidden', 'window', 'png', 'tilt', 'scale', '00']\n",
      "\n",
      "\n",
      "THE TOP 15 WORDS FOR TOPIC #105\n",
      "['frame', 'data', 'failing', 'https', 'headers', 'docs', 'using', 'following', 'security', 'google', 'url', 'http', 'com', 'test', 'tests']\n",
      "\n",
      "\n",
      "THE TOP 15 WORDS FOR TOPIC #106\n",
      "['callback', 'internal', 'stream', 'eviction', 'lib', 'run', 'fun', 'cache', 'backendimpl', 'base', 'net_unittests', 'disk_cache', 'xcodebuild', 'release', 'src']\n",
      "\n",
      "\n",
      "THE TOP 15 WORDS FOR TOPIC #107\n",
      "['render', 'debug', 'sync', 'syncer', '13', 'py', 'home', 'base', 'file', 'line', 'doc', 'data', 'chrome', 'browser_sync', 'apps']\n",
      "\n",
      "\n",
      "THE TOP 15 WORDS FOR TOPIC #108\n",
      "['channel', 'version', '825', 'user2', 'dev', 'chrome', 'warning', 'build', 'file', 'chat', 'plug', 'google', 'talk', 'user1', 'player']\n",
      "\n",
      "\n",
      "THE TOP 15 WORDS FOR TOPIC #109\n",
      "['fix', 'translation', 'flash', 'pepper', 'chromium', 'dont', 'quick', 'viewer', 'ppapi', 'table', 'second', 'remote', 'chrome', 'help', 'desktop']\n",
      "\n",
      "\n",
      "THE TOP 15 WORDS FOR TOPIC #110\n",
      "['functions', 'require', 'polymer', '000', '20px', 'use', '10px', 'code', 'data', 'foo', 'gesture', 'easy', 'toolbar', 'performance', 'div']\n",
      "\n",
      "\n",
      "THE TOP 15 WORDS FOR TOPIC #111\n",
      "['range', 'masters', 'checked', 'perf', 'src', 'appspot', 'tests', 'report', 'bots', 'http', 'rev', 'com', 'html', 'org', 'chromium']\n",
      "\n",
      "\n",
      "THE TOP 15 WORDS FOR TOPIC #112\n",
      "['instantiatefunction', 'prototype', 'gettemplatefield', 'functiontemplateinfo', 'apinatives', 'stack', 'native', 'instantiate', 'arguments', 'return', 'undefined', 'function', 'object', 'js', 'var']\n",
      "\n",
      "\n",
      "THE TOP 15 WORDS FOR TOPIC #113\n",
      "['box', 'right', 'underline', 'style', 'span', 'object', 'minimized', 'decoration', 'ip', 'strip', 'color', 'edit', 'text', 'paste', 'focus']\n",
      "\n",
      "\n",
      "THE TOP 15 WORDS FOR TOPIC #114\n",
      "['atom', 'tmp', 'linux', 'glib', 'quot', 'lib', 'base', 'gt', 'chromeos', 'power_manager', 'usr', 'x86', 'generic', 'include', 'build']\n",
      "\n",
      "\n",
      "THE TOP 15 WORDS FOR TOPIC #115\n",
      "['10', 'x86cpu', 'family', 'info', 'stepping', 'model', 'time', 'uptime', 'architecture', 'link', 'id', 'crash', 'version', 'product', 'signature']\n",
      "\n",
      "\n",
      "THE TOP 15 WORDS FOR TOPIC #116\n",
      "['builder', 'node', 'resolution', 'master', '14', 'chrome', 'events', 'htmllayouttests', 'map', 'commit', 'waterfall', 'touch', 'status', 'git', 'sdk']\n",
      "\n",
      "\n",
      "THE TOP 15 WORDS FOR TOPIC #117\n",
      "['google', 'com', 'debug', 'sandbox', 'bad', 'navigationcontrollertest', 'chromeos', 'cc', 'test', 'process', 'fonts', 'warning', 'telemetry', 'missing', 'run']\n",
      "\n",
      "\n",
      "THE TOP 15 WORDS FOR TOPIC #118\n",
      "['issue', 'machine', 'reproduce', 'discussed', 'patched', 'version', 'third_party', 'text', 'page', 'body', 'debug', 'bug', 'ffmpeg', 'htm', 'index']\n",
      "\n",
      "\n",
      "THE TOP 15 WORDS FOR TOPIC #119\n",
      "['padding', 'background', 'hit', 'debug', 'looks', 'handling', 'corners', 'make', 'build', 'rounded', 'code', 'box', 'shadow', 'like', 'border']\n",
      "\n",
      "\n",
      "THE TOP 15 WORDS FOR TOPIC #120\n",
      "['page', 'sure', 'add', 'enabled', 'chrome', 'set', 'calls', 'make', 'use', 'just', 'setting', 'options', 'says', 'settings', 'change']\n",
      "\n",
      "\n",
      "THE TOP 15 WORDS FOR TOPIC #121\n",
      "['os', 'problem', 'expected', '535', 'behavior', '537', 'mozilla', 'applewebkit', 'safari', 'khtml', 'gecko', 'like', 'windows', 'chrome', 'version']\n",
      "\n",
      "\n",
      "THE TOP 15 WORDS FOR TOPIC #122\n",
      "['usb', 'install', 'cros_sdk', 'insert', 'tracking', 'test', 'invalid', 'button', 'sd', 'images', 'developer', 'mode', 'boot', 'recovery', 'image']\n",
      "\n",
      "\n",
      "THE TOP 15 WORDS FOR TOPIC #123\n",
      "['official', 'enable', 'owner', 'select', 'dialog', 'enabled', 'webui', 'add', 'settings', 'new', 'menu', 'login', 'network', 'user', 'screen']\n",
      "\n",
      "\n",
      "THE TOP 15 WORDS FOR TOPIC #124\n",
      "['layoutblockchild', 'layoutblockchildren', 'renderbox', 'layoutblock', 'const', 'bool', 'layout', 'source', 'int', 'rendering', 'third_party', 'cpp', 'webkit', 'renderblock', 'webcore']\n",
      "\n",
      "\n",
      "THE TOP 15 WORDS FOR TOPIC #125\n",
      "['controls', 'launchwithprofile', 'browser_init', 'window', 'std', 'gfx', 'const', 'browserinit', 'widget', 'chrome', 'browser', 'cc', 'ui', 'view', 'views']\n",
      "\n",
      "\n",
      "THE TOP 15 WORDS FOR TOPIC #126\n",
      "['attach', 'screenshot', 'reproduce', 'steps', 'expected', 'firefox', 'version', 'applicable', 'problem1', 'happens', 'fail', 'product', 'tested', 'ok', 'browsers']\n",
      "\n",
      "\n",
      "THE TOP 15 WORDS FOR TOPIC #127\n",
      "['third_party', 'gold', 'debugger', 'gen', 'work', '15', 'tmp', 'ffmpeg', 'chromium', 'make', 'chrome', 'build', 'obj', 'release', 'target']\n",
      "\n",
      "\n",
      "THE TOP 15 WORDS FOR TOPIC #128\n",
      "['test', 'ms', 'steps', 'data', 'http', 'logs', 'warning', 'cc', 'org', 'request', 'unknown', 'builders', 'builds', 'chromium', 'build']\n",
      "\n",
      "\n",
      "THE TOP 15 WORDS FOR TOPIC #129\n",
      "['testcase', 'testsuite', 'handlesehexceptionsinmethodifsupported', 'unit_tests', 'runalltests', 'handleexceptionsinmethodifsupported', 'base', 'src', 'unittestimpl', 'gtest', 'test', 'cc', 'run', 'internal', 'testing']\n",
      "\n",
      "\n",
      "THE TOP 15 WORDS FOR TOPIC #130\n",
      "['bool', 'run', 'data', 'domwindow', 'prebuilt', 'const', 'string', 'length', 'bytesc', 'int', 'stderr', 'webcore', 'line', 'test_shell', 'exe']\n",
      "\n",
      "\n",
      "THE TOP 15 WORDS FOR TOPIC #131\n",
      "['open', 'using', 'google', 'page', 'version', 'output', 'use', '29', 'text', 'steps', 'reproduce', 'expected', 'problem', 'instead', 'chrome']\n",
      "\n",
      "\n",
      "THE TOP 15 WORDS FOR TOPIC #132\n",
      "['dual', 'parallel', 'file', 'atom', 'core', 'regression', 'sudo', 'chroot', 'buildbot', 'sync', '10', 'build', 'cbuild', 'master', 'canary']\n",
      "\n",
      "\n",
      "THE TOP 15 WORDS FOR TOPIC #133\n",
      "['relevant', 'behavior', 'possible', 'recent', 'windows', 'access', 'cpu', 'linux', 'page', '32', '64', 'manager', 'chrome', 'version', 'bit']\n",
      "\n",
      "\n",
      "THE TOP 15 WORDS FOR TOPIC #134\n",
      "['37', 'run', 'loop', 'image', '2011', 'default', 'users', 'user', 'chrome', 'aug', 'images', '23', 'profile', 'directory', 'update']\n",
      "\n",
      "\n",
      "THE TOP 15 WORDS FOR TOPIC #135\n",
      "['specify', 'applies', 'label', 'additional', 'provide', 'bug', 'information', 'feature', 'area', 'steps', 'expected', 'instead', 'problem', 'reproduce', 'output']\n",
      "\n",
      "\n",
      "THE TOP 15 WORDS FOR TOPIC #136\n",
      "['chromiumos', 'host', 'utils', 'work', 'ebuild', 'boot', 'sys', 'base', 'ec', 'tmp', 'portage', 'r11', 'build', 'bootimage', 'chromeos']\n",
      "\n",
      "\n",
      "THE TOP 15 WORDS FOR TOPIC #137\n",
      "['bool', 'htmltreebuilder', 'htmldocumentparser', 'const', 'fun', 'third_party', 'uilder', 'wtf', 'src', 'build', 'cpp', 'webkit', 'unsigned', 'webcore', 'long']\n",
      "\n",
      "\n",
      "THE TOP 15 WORDS FOR TOPIC #138\n",
      "['20canary', 'chromeos', 'steps', 'www', 'svg', 'botmaster', '8026', 'builds', 'logs', 'builders', 'google', 'mtv', 'corp', 'http', 'com']\n",
      "\n",
      "\n",
      "THE TOP 15 WORDS FOR TOPIC #139\n"
     ]
    },
    {
     "name": "stdout",
     "output_type": "stream",
     "text": [
      "['03', 'code', 'com', 'details', 'show_bug', 'pst', 'comment', 'action', 'attachment', 'cgi', 'https', 'bugs', 'org', 'webkit', 'id']\n",
      "\n",
      "\n",
      "THE TOP 15 WORDS FOR TOPIC #140\n",
      "['yahoo', 'chromegw', 'clientsockethandle', 'transaction', 'try', 'thread', 'codereview', 'int', 'run', 'charts', 'steps', 'stumpy_moblab', 'gestures', 'http', 'use']\n",
      "\n",
      "\n",
      "THE TOP 15 WORDS FOR TOPIC #141\n",
      "['click', 'build', 'icon', 'step', 'install', 'steps', 'expected', 'menu', 'user', 'version', 'google', 'launcher', '35', 'chrome', 'app']\n",
      "\n",
      "\n",
      "THE TOP 15 WORDS FOR TOPIC #142\n",
      "['update', 'user', 'png', 've', 'new', '874', 'browser', 'version', 'entry', 'frame', 'characters', 'windows', 'crash', 'slide', 'chrome']\n",
      "\n",
      "\n",
      "THE TOP 15 WORDS FOR TOPIC #143\n",
      "['version', 'problem', 'broken', '35', 'steps', 'seen', 'reproduce', 'popup', 'regression', 'official', 'build', 'issue', 'launch', 'click', 'chrome']\n",
      "\n",
      "\n",
      "THE TOP 15 WORDS FOR TOPIC #144\n",
      "['servo', 'need', 'pipe', 'user', 'mouse', '13', 'property', '52', '10', '59', 'lock', 'error', 'enter', 'field', 'password']\n",
      "\n",
      "\n",
      "THE TOP 15 WORDS FOR TOPIC #145\n",
      "['network_3gsmoketest', 'error', 'chrome', '48', '15', '07', 'test', 'cc', '13', 'chrome_test', 'src', 'home', 'google', 'usr', 'local']\n",
      "\n",
      "\n",
      "THE TOP 15 WORDS FOR TOPIC #146\n",
      "['function', 'code', 'chromium', 'product_name', 'titles', 'link', 'chrome', 'false', 'text', 'image', 'shared', 'bug', 'priv', 'version', 'script']\n",
      "\n",
      "\n",
      "THE TOP 15 WORDS FOR TOPIC #147\n",
      "['restore', 'txt', 'uses', 'variables', 'messagepumpdispatcher', 'need', 'remain', 'filethreaddeserializer', 'selector', 'associated', 'minimize', 'app', 'class', 'longer', 'panel']\n",
      "\n",
      "\n",
      "THE TOP 15 WORDS FOR TOPIC #148\n",
      "['chromium', 'rel', 'official', 'xp', 'android', 'mostvisitedurl', 'base', '00000000', 'chrome_2690000', 'slave', 'src', 'history', 'build', 'cc', '1093']\n",
      "\n",
      "\n",
      "THE TOP 15 WORDS FOR TOPIC #149\n",
      "['status', 'type', 'com', 'os', 'google', 'failed', 'dev', 'starting', 'response', 'request', 'update', '14', 'version', 'info', 'cc']\n",
      "\n",
      "\n"
     ]
    }
   ],
   "source": [
    "for index,topic in enumerate(LDA.components_):\n",
    "    print(f'THE TOP 15 WORDS FOR TOPIC #{index}')\n",
    "    print([cv.get_feature_names()[i] for i in topic.argsort()[-15:]])\n",
    "    print('\\n')"
   ]
  },
  {
   "cell_type": "code",
   "execution_count": 14,
   "metadata": {},
   "outputs": [
    {
     "data": {
      "text/plain": [
       "(5000, 12306)"
      ]
     },
     "execution_count": 14,
     "metadata": {},
     "output_type": "execute_result"
    }
   ],
   "source": [
    "dtm.shape"
   ]
  },
  {
   "cell_type": "code",
   "execution_count": 15,
   "metadata": {},
   "outputs": [],
   "source": [
    "topic_result = LDA.transform(dtm)"
   ]
  },
  {
   "cell_type": "code",
   "execution_count": 16,
   "metadata": {},
   "outputs": [
    {
     "data": {
      "text/plain": [
       "(5000, 150)"
      ]
     },
     "execution_count": 16,
     "metadata": {},
     "output_type": "execute_result"
    }
   ],
   "source": [
    "topic_result.shape"
   ]
  },
  {
   "cell_type": "code",
   "execution_count": 17,
   "metadata": {},
   "outputs": [
    {
     "data": {
      "text/plain": [
       "array([0.   , 0.   , 0.   , 0.   , 0.   , 0.   , 0.   , 0.   , 0.   ,\n",
       "       0.   , 0.   , 0.   , 0.   , 0.   , 0.   , 0.   , 0.   , 0.   ,\n",
       "       0.   , 0.   , 0.   , 0.   , 0.   , 0.   , 0.   , 0.   , 0.   ,\n",
       "       0.   , 0.   , 0.   , 0.   , 0.   , 0.   , 0.   , 0.   , 0.   ,\n",
       "       0.   , 0.   , 0.   , 0.   , 0.   , 0.   , 0.   , 0.   , 0.   ,\n",
       "       0.   , 0.   , 0.   , 0.   , 0.   , 0.   , 0.   , 0.   , 0.   ,\n",
       "       0.   , 0.   , 0.   , 0.889, 0.   , 0.   , 0.   , 0.   , 0.   ,\n",
       "       0.   , 0.   , 0.   , 0.   , 0.   , 0.   , 0.   , 0.   , 0.   ,\n",
       "       0.   , 0.   , 0.   , 0.   , 0.   , 0.   , 0.   , 0.   , 0.091,\n",
       "       0.   , 0.   , 0.   , 0.   , 0.   , 0.   , 0.   , 0.   , 0.   ,\n",
       "       0.   , 0.   , 0.   , 0.   , 0.   , 0.   , 0.   , 0.   , 0.   ,\n",
       "       0.   , 0.   , 0.   , 0.   , 0.   , 0.   , 0.   , 0.   , 0.   ,\n",
       "       0.   , 0.   , 0.   , 0.   , 0.   , 0.   , 0.   , 0.   , 0.   ,\n",
       "       0.   , 0.   , 0.   , 0.   , 0.   , 0.   , 0.   , 0.   , 0.   ,\n",
       "       0.   , 0.   , 0.   , 0.   , 0.   , 0.   , 0.   , 0.   , 0.   ,\n",
       "       0.   , 0.   , 0.   , 0.   , 0.   , 0.   , 0.   , 0.   , 0.   ,\n",
       "       0.   , 0.   , 0.   , 0.   , 0.   , 0.   ])"
      ]
     },
     "execution_count": 17,
     "metadata": {},
     "output_type": "execute_result"
    }
   ],
   "source": [
    "topic_result[0].round(3)"
   ]
  },
  {
   "cell_type": "code",
   "execution_count": 18,
   "metadata": {},
   "outputs": [
    {
     "data": {
      "text/plain": [
       "57"
      ]
     },
     "execution_count": 18,
     "metadata": {},
     "output_type": "execute_result"
    }
   ],
   "source": [
    "topic_result[0].argmax()"
   ]
  },
  {
   "cell_type": "code",
   "execution_count": 19,
   "metadata": {},
   "outputs": [
    {
     "data": {
      "text/html": [
       "<div>\n",
       "<style scoped>\n",
       "    .dataframe tbody tr th:only-of-type {\n",
       "        vertical-align: middle;\n",
       "    }\n",
       "\n",
       "    .dataframe tbody tr th {\n",
       "        vertical-align: top;\n",
       "    }\n",
       "\n",
       "    .dataframe thead th {\n",
       "        text-align: right;\n",
       "    }\n",
       "</style>\n",
       "<table border=\"1\" class=\"dataframe\">\n",
       "  <thead>\n",
       "    <tr style=\"text-align: right;\">\n",
       "      <th></th>\n",
       "      <th>description</th>\n",
       "    </tr>\n",
       "  </thead>\n",
       "  <tbody>\n",
       "    <tr>\n",
       "      <th>0</th>\n",
       "      <td>Product Version      : &lt;see about:version&gt;URLs...</td>\n",
       "    </tr>\n",
       "    <tr>\n",
       "      <th>1</th>\n",
       "      <td>Product Version      : 0.2.149.27 (1583)URLs (...</td>\n",
       "    </tr>\n",
       "    <tr>\n",
       "      <th>2</th>\n",
       "      <td>Product Version      : chrome beta 1URLs (if a...</td>\n",
       "    </tr>\n",
       "    <tr>\n",
       "      <th>3</th>\n",
       "      <td>Product Version      : 0.2.149.27 (1583)URLs (...</td>\n",
       "    </tr>\n",
       "    <tr>\n",
       "      <th>4</th>\n",
       "      <td>Product Version      : 0.2.149.27URLs (if appl...</td>\n",
       "    </tr>\n",
       "  </tbody>\n",
       "</table>\n",
       "</div>"
      ],
      "text/plain": [
       "                                         description\n",
       "0  Product Version      : <see about:version>URLs...\n",
       "1  Product Version      : 0.2.149.27 (1583)URLs (...\n",
       "2  Product Version      : chrome beta 1URLs (if a...\n",
       "3  Product Version      : 0.2.149.27 (1583)URLs (...\n",
       "4  Product Version      : 0.2.149.27URLs (if appl..."
      ]
     },
     "execution_count": 19,
     "metadata": {},
     "output_type": "execute_result"
    }
   ],
   "source": [
    "dataset.head()"
   ]
  },
  {
   "cell_type": "code",
   "execution_count": 20,
   "metadata": {},
   "outputs": [
    {
     "data": {
      "text/plain": [
       "array([ 57,  97,  57, ...,  80, 126,  80])"
      ]
     },
     "execution_count": 20,
     "metadata": {},
     "output_type": "execute_result"
    }
   ],
   "source": [
    "topic_result.argmax(axis=1)"
   ]
  },
  {
   "cell_type": "code",
   "execution_count": 21,
   "metadata": {},
   "outputs": [],
   "source": [
    "dataset['Topic']= topic_result.argmax(axis=1)"
   ]
  },
  {
   "cell_type": "code",
   "execution_count": 22,
   "metadata": {},
   "outputs": [
    {
     "data": {
      "text/html": [
       "<div>\n",
       "<style scoped>\n",
       "    .dataframe tbody tr th:only-of-type {\n",
       "        vertical-align: middle;\n",
       "    }\n",
       "\n",
       "    .dataframe tbody tr th {\n",
       "        vertical-align: top;\n",
       "    }\n",
       "\n",
       "    .dataframe thead th {\n",
       "        text-align: right;\n",
       "    }\n",
       "</style>\n",
       "<table border=\"1\" class=\"dataframe\">\n",
       "  <thead>\n",
       "    <tr style=\"text-align: right;\">\n",
       "      <th></th>\n",
       "      <th>description</th>\n",
       "      <th>Topic</th>\n",
       "    </tr>\n",
       "  </thead>\n",
       "  <tbody>\n",
       "    <tr>\n",
       "      <th>0</th>\n",
       "      <td>Product Version      : &lt;see about:version&gt;URLs...</td>\n",
       "      <td>57</td>\n",
       "    </tr>\n",
       "    <tr>\n",
       "      <th>1</th>\n",
       "      <td>Product Version      : 0.2.149.27 (1583)URLs (...</td>\n",
       "      <td>97</td>\n",
       "    </tr>\n",
       "    <tr>\n",
       "      <th>2</th>\n",
       "      <td>Product Version      : chrome beta 1URLs (if a...</td>\n",
       "      <td>57</td>\n",
       "    </tr>\n",
       "    <tr>\n",
       "      <th>3</th>\n",
       "      <td>Product Version      : 0.2.149.27 (1583)URLs (...</td>\n",
       "      <td>126</td>\n",
       "    </tr>\n",
       "    <tr>\n",
       "      <th>4</th>\n",
       "      <td>Product Version      : 0.2.149.27URLs (if appl...</td>\n",
       "      <td>34</td>\n",
       "    </tr>\n",
       "    <tr>\n",
       "      <th>5</th>\n",
       "      <td>Product Version      : 0.2.149.27URLs (if appl...</td>\n",
       "      <td>97</td>\n",
       "    </tr>\n",
       "    <tr>\n",
       "      <th>6</th>\n",
       "      <td>Product Version      : Windows XP 64-bitURLs (...</td>\n",
       "      <td>57</td>\n",
       "    </tr>\n",
       "    <tr>\n",
       "      <th>7</th>\n",
       "      <td>Product Version      : 0.2.149.27URLs (if appl...</td>\n",
       "      <td>97</td>\n",
       "    </tr>\n",
       "    <tr>\n",
       "      <th>8</th>\n",
       "      <td>Product Version      : &lt;see about:version&gt;URLs...</td>\n",
       "      <td>57</td>\n",
       "    </tr>\n",
       "    <tr>\n",
       "      <th>9</th>\n",
       "      <td>This is introduced between 53415 - 53406 (http...</td>\n",
       "      <td>82</td>\n",
       "    </tr>\n",
       "  </tbody>\n",
       "</table>\n",
       "</div>"
      ],
      "text/plain": [
       "                                         description  Topic\n",
       "0  Product Version      : <see about:version>URLs...     57\n",
       "1  Product Version      : 0.2.149.27 (1583)URLs (...     97\n",
       "2  Product Version      : chrome beta 1URLs (if a...     57\n",
       "3  Product Version      : 0.2.149.27 (1583)URLs (...    126\n",
       "4  Product Version      : 0.2.149.27URLs (if appl...     34\n",
       "5  Product Version      : 0.2.149.27URLs (if appl...     97\n",
       "6  Product Version      : Windows XP 64-bitURLs (...     57\n",
       "7  Product Version      : 0.2.149.27URLs (if appl...     97\n",
       "8  Product Version      : <see about:version>URLs...     57\n",
       "9  This is introduced between 53415 - 53406 (http...     82"
      ]
     },
     "execution_count": 22,
     "metadata": {},
     "output_type": "execute_result"
    }
   ],
   "source": [
    "dataset.head(10)"
   ]
  }
 ],
 "metadata": {
  "kernelspec": {
   "display_name": "Python 3",
   "language": "python",
   "name": "python3"
  },
  "language_info": {
   "codemirror_mode": {
    "name": "ipython",
    "version": 3
   },
   "file_extension": ".py",
   "mimetype": "text/x-python",
   "name": "python",
   "nbconvert_exporter": "python",
   "pygments_lexer": "ipython3",
   "version": "3.8.5"
  }
 },
 "nbformat": 4,
 "nbformat_minor": 4
}
