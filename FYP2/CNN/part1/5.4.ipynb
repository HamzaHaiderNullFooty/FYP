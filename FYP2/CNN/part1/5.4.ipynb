{
 "cells": [
  {
   "cell_type": "code",
   "execution_count": 1,
   "id": "confirmed-impression",
   "metadata": {},
   "outputs": [
    {
     "name": "stderr",
     "output_type": "stream",
     "text": [
      "<ipython-input-1-fb534204403d>:10: TqdmDeprecationWarning: This function will be removed in tqdm==5.0.0\n",
      "Please use `tqdm.notebook.*` instead of `tqdm._tqdm_notebook.*`\n",
      "  from tqdm._tqdm_notebook import tqdm_notebook\n"
     ]
    }
   ],
   "source": [
    "import csv\n",
    "import tensorflow as tf\n",
    "import numpy as np\n",
    "import pandas as pd\n",
    "from tensorflow.keras.preprocessing.text import Tokenizer\n",
    "from keras.preprocessing import sequence\n",
    "from tensorflow.keras.preprocessing.sequence import pad_sequences\n",
    "from nltk.corpus import stopwords\n",
    "from sklearn.model_selection import train_test_split\n",
    "from tqdm._tqdm_notebook import tqdm_notebook\n",
    "from sklearn import model_selection, preprocessing\n",
    "from tqdm import tqdm\n",
    "import string\n",
    "import gensim.downloader as api\n",
    "STOPWORDS = set(stopwords.words('english'))\n",
    "import inspect\n",
    "import re as re\n",
    "from gensim.models import Word2Vec\n",
    "from keras.preprocessing.text import Tokenizer\n",
    "from keras.preprocessing import sequence\n",
    "from keras.models import Sequential\n",
    "from keras.layers import Dense, Dropout, Activation\n",
    "from keras.layers import Embedding\n",
    "from keras.layers import Conv1D, GlobalMaxPooling1D\n",
    "from keras.utils import np_utils\n",
    "from tensorflow import keras\n",
    "from sklearn.metrics import accuracy_score\n",
    "from sklearn.metrics import classification_report\n",
    "from sklearn.metrics import confusion_matrix\n",
    "from sklearn.metrics import cohen_kappa_score\n",
    "from sklearn.metrics import precision_score"
   ]
  },
  {
   "cell_type": "code",
   "execution_count": 2,
   "id": "presidential-thinking",
   "metadata": {},
   "outputs": [],
   "source": [
    "vocab_size = 45000\n",
    "embedding_dim = 512\n",
    "max_length = 100\n",
    "trunc_type = 'post'\n",
    "padding_type = 'post'\n",
    "oov_tok = '<OOV>'\n",
    "training_portion = .8"
   ]
  },
  {
   "cell_type": "code",
   "execution_count": 3,
   "id": "electric-crowd",
   "metadata": {},
   "outputs": [],
   "source": [
    "dataset = pd.read_csv('classifier_data_20.csv', header = 0, encoding= 'utf-8')\n",
    "dataset.drop(['Unnamed: 2','Unnamed: 3'], axis=1, inplace = True)"
   ]
  },
  {
   "cell_type": "code",
   "execution_count": 4,
   "id": "after-azerbaijan",
   "metadata": {},
   "outputs": [
    {
     "name": "stdout",
     "output_type": "stream",
     "text": [
      "                                            description                  owner\n",
      "4576  Chrome Version       : 0.3.154.5URLs (if appli...     hbono@chromium.org\n",
      "3457  1. Set the tree status with a (non-ASCII) Unic...    mar...@chromium.org\n",
      "3879                                     We want that.     zbehan@chromium.org\n",
      "788   What steps will reproduce the problem?1. decla...   apavlov@chromium.org\n",
      "307   One of the top crashers on Linux.Product, Vers...  pfeldman@chromium.org\n"
     ]
    }
   ],
   "source": [
    "X= dataset['description']\n",
    "y = dataset['owner']\n",
    "X_train, X_test, y_train, y_test = train_test_split(X, y, test_size=0.20, random_state=1500)\n",
    "X_train.shape\n",
    "df = pd.DataFrame(data=[X_train, y_train], index=[\"description\", \"owner\"]).T\n",
    "df = df.append(pd.DataFrame(data=[X_test, y_test], index=[\"description\", \"owner\"]).T)\n",
    "\n",
    "\n",
    "df = df.replace({np.nan: oov_tok})\n",
    "print(df.head())\n"
   ]
  },
  {
   "cell_type": "code",
   "execution_count": 5,
   "id": "understood-sailing",
   "metadata": {},
   "outputs": [],
   "source": [
    "\n",
    "df['char_count'] = df['description'].apply(len) # Number of characters in the string\n",
    "df['word_count'] = df['description'].apply(lambda x: len(x.split())) # Number of words in the string \n",
    "df['word_density'] = df['char_count'] / (df['word_count']+1) # Density of word (in char)\n",
    "df['title_word_count'] = df['description'].apply(lambda x: len([wrd for wrd in x.split() if wrd.istitle()]))\n",
    "\n",
    "labels = df['owner'].unique()\n",
    "\n",
    "def remove(list):\n",
    "    pattern='[0-9]'\n",
    "    list = [re.sub(pattern, '',i) for i in list]\n",
    "    return list"
   ]
  },
  {
   "cell_type": "code",
   "execution_count": 6,
   "id": "expressed-moore",
   "metadata": {},
   "outputs": [],
   "source": [
    "train_x, valid_x, y_train, y_valid = train_test_split(df['description'], df['owner'], random_state=42, test_size=0.2)\n",
    "\n",
    "token = Tokenizer()\n",
    "token.fit_on_texts(df['description'])\n",
    "word_index = token.word_index\n",
    "\n",
    "df['description']= remove(df['description'])\n",
    "encoder = preprocessing.LabelEncoder()\n",
    "# convert text to sequence of tokens and pad them to ensure equal length vectors \n",
    "train_seq_x = sequence.pad_sequences(token.texts_to_sequences(train_x), maxlen=300)\n",
    "valid_seq_x = sequence.pad_sequences(token.texts_to_sequences(valid_x), maxlen=300)\n",
    "\n",
    "\n",
    "train_y = encoder.fit_transform(y_train)\n",
    "valid_y = encoder.fit_transform(y_valid)\n",
    "\n",
    " \n",
    "es = tf.keras.callbacks.EarlyStopping(monitor='val_loss', mode='auto', patience=3)\n",
    "def create_conv_model(word_index, label, embedding_matrix, pre_trained=False):\n",
    "    '''\n",
    "    Function to generate a convulational neural network for binary or multiclass classification.\n",
    "    @param word_index: (matrix) unique token in corpus\n",
    "    @param label: (list) list of labels to determine if it,s a binary or multiclass\n",
    "    @param embedding_matrix: (matrix) matrix of integer for each word in the \n",
    "    @param pre_trained: (bool) determine if the model will use pretrained model\n",
    "    @return: (model) convulational neural network \n",
    "    '''\n",
    "    if pre_trained==False:\n",
    "        embedded = keras.layers.Embedding(len(word_index) +1, 100)\n",
    "    else:\n",
    "        embedded = keras.layers.Embedding(len(word_index) + 1, 300, weights=[embedding_matrix], trainable=False)\n",
    "    \n",
    "    model = keras.Sequential([\n",
    "    embedded,\n",
    "    keras.layers.Conv1D(100, 5, activation='relu'), # padding='same'\n",
    "    keras.layers.Dropout(0.2),\n",
    "    keras.layers.MaxPooling1D(pool_size=4),\n",
    "    keras.layers.Conv1D(64, 5, activation='relu'),\n",
    "    keras.layers.Dropout(0.2),\n",
    "    keras.layers.MaxPooling1D(pool_size=4),\n",
    "    keras.layers.Conv1D(32, 5, activation='relu'),\n",
    "    keras.layers.Dropout(0.2),\n",
    "    keras.layers.GlobalMaxPooling1D(),\n",
    "\n",
    "    keras.layers.Dense(1 if len(label)<=2 else len(label), activation='sigmoid' if len(label)<=2 else \"softmax\")])\n",
    "\n",
    "    if len(label)==2:\n",
    "        model.compile(optimizer=tf.keras.optimizers.RMSprop(lr=1e-4),\n",
    "              loss=tf.losses.BinaryCrossentropy(from_logits=True),\n",
    "              metrics=['accuracy'])\n",
    "    else: \n",
    "        model.compile(optimizer=tf.keras.optimizers.RMSprop(lr=1e-4),\n",
    "              loss=tf.losses.SparseCategoricalCrossentropy(from_logits=True),\n",
    "              metrics=['accuracy'])\n",
    "    \n",
    "    return model"
   ]
  },
  {
   "cell_type": "code",
   "execution_count": 7,
   "id": "intended-equation",
   "metadata": {},
   "outputs": [],
   "source": [
    "model = create_conv_model(word_index, labels, False)"
   ]
  },
  {
   "cell_type": "code",
   "execution_count": 8,
   "id": "still-accused",
   "metadata": {},
   "outputs": [
    {
     "name": "stdout",
     "output_type": "stream",
     "text": [
      "Epoch 1/20\n",
      "100/100 [==============================] - 11s 98ms/step - loss: 6.5263 - accuracy: 0.0025 - val_loss: 6.5141 - val_accuracy: 0.0063\n",
      "Epoch 2/20\n",
      "100/100 [==============================] - 9s 86ms/step - loss: 6.4540 - accuracy: 0.0151 - val_loss: 6.4006 - val_accuracy: 0.0388\n",
      "Epoch 3/20\n",
      "100/100 [==============================] - 9s 86ms/step - loss: 6.2421 - accuracy: 0.0396 - val_loss: 6.3211 - val_accuracy: 0.0388\n",
      "Epoch 4/20\n",
      "100/100 [==============================] - 9s 86ms/step - loss: 6.0995 - accuracy: 0.0495 - val_loss: 6.2722 - val_accuracy: 0.0388\n",
      "Epoch 5/20\n",
      "100/100 [==============================] - 9s 94ms/step - loss: 6.0274 - accuracy: 0.0383 - val_loss: 6.2360 - val_accuracy: 0.0388\n",
      "Epoch 6/20\n",
      "100/100 [==============================] - 10s 98ms/step - loss: 5.9545 - accuracy: 0.0418 - val_loss: 6.2162 - val_accuracy: 0.0388\n",
      "Epoch 7/20\n",
      "100/100 [==============================] - 9s 92ms/step - loss: 5.8728 - accuracy: 0.0418 - val_loss: 6.1721 - val_accuracy: 0.0388\n",
      "Epoch 8/20\n",
      "100/100 [==============================] - 9s 91ms/step - loss: 5.8073 - accuracy: 0.0439 - val_loss: 6.1565 - val_accuracy: 0.0388\n",
      "Epoch 9/20\n",
      "100/100 [==============================] - 9s 94ms/step - loss: 5.8156 - accuracy: 0.0437 - val_loss: 6.1377 - val_accuracy: 0.0388\n",
      "Epoch 10/20\n",
      "100/100 [==============================] - 9s 94ms/step - loss: 5.8372 - accuracy: 0.0326 - val_loss: 6.1313 - val_accuracy: 0.0400\n",
      "Epoch 11/20\n",
      "100/100 [==============================] - 10s 101ms/step - loss: 5.7323 - accuracy: 0.0472 - val_loss: 6.1260 - val_accuracy: 0.0388\n",
      "Epoch 12/20\n",
      "100/100 [==============================] - 9s 88ms/step - loss: 5.7231 - accuracy: 0.0527 - val_loss: 6.1177 - val_accuracy: 0.0388\n",
      "Epoch 13/20\n",
      "100/100 [==============================] - 9s 87ms/step - loss: 5.6932 - accuracy: 0.0568 - val_loss: 6.1263 - val_accuracy: 0.0400\n",
      "Epoch 14/20\n",
      "100/100 [==============================] - 9s 87ms/step - loss: 5.7062 - accuracy: 0.0577 - val_loss: 6.1153 - val_accuracy: 0.0400\n",
      "Epoch 15/20\n",
      "100/100 [==============================] - 9s 88ms/step - loss: 5.7038 - accuracy: 0.0495 - val_loss: 6.1107 - val_accuracy: 0.0400\n",
      "Epoch 16/20\n",
      "100/100 [==============================] - 9s 88ms/step - loss: 5.6999 - accuracy: 0.0530 - val_loss: 6.1069 - val_accuracy: 0.0413\n",
      "Epoch 17/20\n",
      "100/100 [==============================] - 9s 88ms/step - loss: 5.6987 - accuracy: 0.0527 - val_loss: 6.1034 - val_accuracy: 0.0425\n",
      "Epoch 18/20\n",
      "100/100 [==============================] - 9s 87ms/step - loss: 5.6435 - accuracy: 0.0546 - val_loss: 6.0996 - val_accuracy: 0.0425\n",
      "Epoch 19/20\n",
      "100/100 [==============================] - 9s 88ms/step - loss: 5.6354 - accuracy: 0.0548 - val_loss: 6.0993 - val_accuracy: 0.0425\n",
      "Epoch 20/20\n",
      "100/100 [==============================] - 9s 88ms/step - loss: 5.5981 - accuracy: 0.0540 - val_loss: 6.1004 - val_accuracy: 0.0437\n"
     ]
    }
   ],
   "source": [
    "history = model.fit(train_seq_x, train_y, epochs=20, callbacks=[es], validation_split=0.2)"
   ]
  },
  {
   "cell_type": "code",
   "execution_count": 10,
   "id": "chief-machine",
   "metadata": {},
   "outputs": [
    {
     "name": "stdout",
     "output_type": "stream",
     "text": [
      "32/32 [==============================] - 1s 15ms/step - loss: 6.7013 - accuracy: 0.0000e+00\n",
      "[6.7012739181518555, 0.0]\n"
     ]
    }
   ],
   "source": [
    "results = model.evaluate(valid_seq_x, valid_y)\n",
    "\n",
    "print(results)\n"
   ]
  },
  {
   "cell_type": "code",
   "execution_count": null,
   "id": "empty-verse",
   "metadata": {},
   "outputs": [],
   "source": []
  }
 ],
 "metadata": {
  "kernelspec": {
   "display_name": "Python [conda env:.conda-myenv] *",
   "language": "python",
   "name": "conda-env-.conda-myenv-py"
  },
  "language_info": {
   "codemirror_mode": {
    "name": "ipython",
    "version": 3
   },
   "file_extension": ".py",
   "mimetype": "text/x-python",
   "name": "python",
   "nbconvert_exporter": "python",
   "pygments_lexer": "ipython3",
   "version": "3.8.5"
  }
 },
 "nbformat": 4,
 "nbformat_minor": 5
}
