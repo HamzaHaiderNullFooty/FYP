{
 "cells": [
  {
   "cell_type": "code",
   "execution_count": 1,
   "id": "confirmed-impression",
   "metadata": {},
   "outputs": [
    {
     "name": "stderr",
     "output_type": "stream",
     "text": [
      "<ipython-input-1-fb534204403d>:10: TqdmDeprecationWarning: This function will be removed in tqdm==5.0.0\n",
      "Please use `tqdm.notebook.*` instead of `tqdm._tqdm_notebook.*`\n",
      "  from tqdm._tqdm_notebook import tqdm_notebook\n"
     ]
    }
   ],
   "source": [
    "import csv\n",
    "import tensorflow as tf\n",
    "import numpy as np\n",
    "import pandas as pd\n",
    "from tensorflow.keras.preprocessing.text import Tokenizer\n",
    "from keras.preprocessing import sequence\n",
    "from tensorflow.keras.preprocessing.sequence import pad_sequences\n",
    "from nltk.corpus import stopwords\n",
    "from sklearn.model_selection import train_test_split\n",
    "from tqdm._tqdm_notebook import tqdm_notebook\n",
    "from sklearn import model_selection, preprocessing\n",
    "from tqdm import tqdm\n",
    "import string\n",
    "import gensim.downloader as api\n",
    "STOPWORDS = set(stopwords.words('english'))\n",
    "import inspect\n",
    "import re as re\n",
    "from gensim.models import Word2Vec\n",
    "from keras.preprocessing.text import Tokenizer\n",
    "from keras.preprocessing import sequence\n",
    "from keras.models import Sequential\n",
    "from keras.layers import Dense, Dropout, Activation\n",
    "from keras.layers import Embedding\n",
    "from keras.layers import Conv1D, GlobalMaxPooling1D\n",
    "from keras.utils import np_utils\n",
    "from tensorflow import keras\n",
    "from sklearn.metrics import accuracy_score\n",
    "from sklearn.metrics import classification_report\n",
    "from sklearn.metrics import confusion_matrix\n",
    "from sklearn.metrics import cohen_kappa_score\n",
    "from sklearn.metrics import precision_score"
   ]
  },
  {
   "cell_type": "code",
   "execution_count": 2,
   "id": "presidential-thinking",
   "metadata": {},
   "outputs": [],
   "source": [
    "vocab_size = 45000\n",
    "embedding_dim = 512\n",
    "max_length = 100\n",
    "trunc_type = 'post'\n",
    "padding_type = 'post'\n",
    "oov_tok = '<OOV>'\n",
    "training_portion = .8"
   ]
  },
  {
   "cell_type": "code",
   "execution_count": 3,
   "id": "electric-crowd",
   "metadata": {},
   "outputs": [],
   "source": [
    "dataset = pd.read_csv('classifier_data_10.csv', header = 0, encoding= 'utf-8')\n",
    "dataset.drop(['Unnamed: 2','Unnamed: 3'], axis=1, inplace = True)"
   ]
  },
  {
   "cell_type": "code",
   "execution_count": 4,
   "id": "after-azerbaijan",
   "metadata": {},
   "outputs": [
    {
     "name": "stdout",
     "output_type": "stream",
     "text": [
      "                                            description  \\\n",
      "4576  Chrome Version       : 0.3.154.3URLs (if appli...   \n",
      "3457  Currently, there are 3 suggest services that a...   \n",
      "3879  We'd like to get an kernel module / autotest w...   \n",
      "788   We should not have objects requiring static in...   \n",
      "307   Product Version      : 0.2.149.27URLs (if appl...   \n",
      "\n",
      "                        owner  \n",
      "4576         jon@chromium.org  \n",
      "3457       js...@chromium.org  \n",
      "3879  davidri...@chromium.org  \n",
      "788     jhawkins@chromium.org  \n",
      "307       eroman@chromium.org  \n"
     ]
    }
   ],
   "source": [
    "X= dataset['description']\n",
    "y = dataset['owner']\n",
    "X_train, X_test, y_train, y_test = train_test_split(X, y, test_size=0.20, random_state=1500)\n",
    "X_train.shape\n",
    "df = pd.DataFrame(data=[X_train, y_train], index=[\"description\", \"owner\"]).T\n",
    "df = df.append(pd.DataFrame(data=[X_test, y_test], index=[\"description\", \"owner\"]).T)\n",
    "\n",
    "\n",
    "df = df.replace({np.nan: oov_tok})\n",
    "print(df.head())\n"
   ]
  },
  {
   "cell_type": "code",
   "execution_count": 5,
   "id": "understood-sailing",
   "metadata": {},
   "outputs": [],
   "source": [
    "\n",
    "df['char_count'] = df['description'].apply(len) # Number of characters in the string\n",
    "df['word_count'] = df['description'].apply(lambda x: len(x.split())) # Number of words in the string \n",
    "df['word_density'] = df['char_count'] / (df['word_count']+1) # Density of word (in char)\n",
    "df['title_word_count'] = df['description'].apply(lambda x: len([wrd for wrd in x.split() if wrd.istitle()]))\n",
    "\n",
    "labels = df['owner'].unique()\n",
    "\n",
    "def remove(list):\n",
    "    pattern='[0-9]'\n",
    "    list = [re.sub(pattern, '',i) for i in list]\n",
    "    return list"
   ]
  },
  {
   "cell_type": "code",
   "execution_count": 6,
   "id": "expressed-moore",
   "metadata": {},
   "outputs": [],
   "source": [
    "train_x, valid_x, y_train, y_valid = train_test_split(df['description'], df['owner'], random_state=42, test_size=0.2)\n",
    "\n",
    "token = Tokenizer()\n",
    "token.fit_on_texts(df['description'])\n",
    "word_index = token.word_index\n",
    "\n",
    "df['description']= remove(df['description'])\n",
    "encoder = preprocessing.LabelEncoder()\n",
    "# convert text to sequence of tokens and pad them to ensure equal length vectors \n",
    "train_seq_x = sequence.pad_sequences(token.texts_to_sequences(train_x), maxlen=300)\n",
    "valid_seq_x = sequence.pad_sequences(token.texts_to_sequences(valid_x), maxlen=300)\n",
    "\n",
    "\n",
    "train_y = encoder.fit_transform(y_train)\n",
    "valid_y = encoder.fit_transform(y_valid)\n",
    "\n",
    " \n",
    "es = tf.keras.callbacks.EarlyStopping(monitor='val_loss', mode='auto', patience=3)\n",
    "def create_conv_model(word_index, label, embedding_matrix, pre_trained=False):\n",
    "    '''\n",
    "    Function to generate a convulational neural network for binary or multiclass classification.\n",
    "    @param word_index: (matrix) unique token in corpus\n",
    "    @param label: (list) list of labels to determine if it,s a binary or multiclass\n",
    "    @param embedding_matrix: (matrix) matrix of integer for each word in the \n",
    "    @param pre_trained: (bool) determine if the model will use pretrained model\n",
    "    @return: (model) convulational neural network \n",
    "    '''\n",
    "    if pre_trained==False:\n",
    "        embedded = keras.layers.Embedding(len(word_index) +1, 100)\n",
    "    else:\n",
    "        embedded = keras.layers.Embedding(len(word_index) + 1, 300, weights=[embedding_matrix], trainable=False)\n",
    "    \n",
    "    model = keras.Sequential([\n",
    "    embedded,\n",
    "    keras.layers.Conv1D(100, 5, activation='relu'), # padding='same'\n",
    "    keras.layers.Dropout(0.2),\n",
    "    keras.layers.MaxPooling1D(pool_size=4),\n",
    "    keras.layers.Conv1D(64, 5, activation='relu'),\n",
    "    keras.layers.Dropout(0.2),\n",
    "    keras.layers.MaxPooling1D(pool_size=4),\n",
    "    keras.layers.Conv1D(32, 5, activation='relu'),\n",
    "    keras.layers.Dropout(0.2),\n",
    "    keras.layers.GlobalMaxPooling1D(),\n",
    "\n",
    "    keras.layers.Dense(1 if len(label)<=2 else len(label), activation='sigmoid' if len(label)<=2 else \"softmax\")])\n",
    "\n",
    "    if len(label)==2:\n",
    "        model.compile(optimizer=tf.keras.optimizers.RMSprop(lr=1e-4),\n",
    "              loss=tf.losses.BinaryCrossentropy(from_logits=True),\n",
    "              metrics=['accuracy'])\n",
    "    else: \n",
    "        model.compile(optimizer=tf.keras.optimizers.RMSprop(lr=1e-4),\n",
    "              loss=tf.losses.SparseCategoricalCrossentropy(from_logits=True),\n",
    "              metrics=['accuracy'])\n",
    "    \n",
    "    return model"
   ]
  },
  {
   "cell_type": "code",
   "execution_count": 7,
   "id": "intended-equation",
   "metadata": {},
   "outputs": [],
   "source": [
    "model = create_conv_model(word_index, labels, False)"
   ]
  },
  {
   "cell_type": "code",
   "execution_count": 10,
   "id": "still-accused",
   "metadata": {},
   "outputs": [
    {
     "name": "stdout",
     "output_type": "stream",
     "text": [
      "Epoch 1/20\n",
      "100/100 [==============================] - 8s 81ms/step - loss: 6.4452 - accuracy: 0.0100 - val_loss: 6.4758 - val_accuracy: 0.0063\n",
      "Epoch 2/20\n",
      "100/100 [==============================] - 8s 80ms/step - loss: 6.2511 - accuracy: 0.0281 - val_loss: 6.3925 - val_accuracy: 0.0288\n",
      "Epoch 3/20\n",
      "100/100 [==============================] - 8s 79ms/step - loss: 6.1403 - accuracy: 0.0372 - val_loss: 6.3458 - val_accuracy: 0.0288\n",
      "Epoch 4/20\n",
      "100/100 [==============================] - 8s 80ms/step - loss: 6.0640 - accuracy: 0.0372 - val_loss: 6.3040 - val_accuracy: 0.0288\n",
      "Epoch 5/20\n",
      "100/100 [==============================] - 8s 80ms/step - loss: 6.0113 - accuracy: 0.0372 - val_loss: 6.2787 - val_accuracy: 0.0288\n",
      "Epoch 6/20\n",
      "100/100 [==============================] - 8s 79ms/step - loss: 5.9675 - accuracy: 0.0372 - val_loss: 6.2450 - val_accuracy: 0.0288\n",
      "Epoch 7/20\n",
      "100/100 [==============================] - 8s 79ms/step - loss: 5.9332 - accuracy: 0.0372 - val_loss: 6.2386 - val_accuracy: 0.0288\n",
      "Epoch 8/20\n",
      "100/100 [==============================] - 8s 79ms/step - loss: 5.9084 - accuracy: 0.0372 - val_loss: 6.2236 - val_accuracy: 0.0288\n",
      "Epoch 9/20\n",
      "100/100 [==============================] - 8s 79ms/step - loss: 5.8891 - accuracy: 0.0372 - val_loss: 6.2148 - val_accuracy: 0.0288\n",
      "Epoch 10/20\n",
      "100/100 [==============================] - 8s 84ms/step - loss: 5.8743 - accuracy: 0.0375 - val_loss: 6.2112 - val_accuracy: 0.0288\n",
      "Epoch 11/20\n",
      "100/100 [==============================] - 10s 100ms/step - loss: 5.8610 - accuracy: 0.0409 - val_loss: 6.2098 - val_accuracy: 0.0312\n",
      "Epoch 12/20\n",
      "100/100 [==============================] - 10s 97ms/step - loss: 5.8473 - accuracy: 0.0428 - val_loss: 6.2042 - val_accuracy: 0.0338\n",
      "Epoch 13/20\n",
      "100/100 [==============================] - 9s 93ms/step - loss: 5.8326 - accuracy: 0.0450 - val_loss: 6.1983 - val_accuracy: 0.0338\n",
      "Epoch 14/20\n",
      "100/100 [==============================] - 10s 102ms/step - loss: 5.8193 - accuracy: 0.0450 - val_loss: 6.1974 - val_accuracy: 0.0350\n",
      "Epoch 15/20\n",
      "100/100 [==============================] - 9s 89ms/step - loss: 5.8025 - accuracy: 0.0459 - val_loss: 6.1828 - val_accuracy: 0.0350\n",
      "Epoch 16/20\n",
      "100/100 [==============================] - 9s 90ms/step - loss: 5.7876 - accuracy: 0.0463 - val_loss: 6.1831 - val_accuracy: 0.0350\n",
      "Epoch 17/20\n",
      "100/100 [==============================] - 10s 97ms/step - loss: 5.7699 - accuracy: 0.0472 - val_loss: 6.1818 - val_accuracy: 0.0350\n",
      "Epoch 18/20\n",
      "100/100 [==============================] - 11s 105ms/step - loss: 5.7532 - accuracy: 0.0459 - val_loss: 6.1815 - val_accuracy: 0.0350\n",
      "Epoch 19/20\n",
      "100/100 [==============================] - 9s 85ms/step - loss: 5.7324 - accuracy: 0.0469 - val_loss: 6.1769 - val_accuracy: 0.0350\n",
      "Epoch 20/20\n",
      "100/100 [==============================] - 8s 83ms/step - loss: 5.7114 - accuracy: 0.0463 - val_loss: 6.1787 - val_accuracy: 0.0350\n"
     ]
    }
   ],
   "source": [
    "history = model.fit(train_seq_x, train_y, epochs=20, callbacks=[es], validation_split=0.2)"
   ]
  },
  {
   "cell_type": "code",
   "execution_count": 9,
   "id": "chief-machine",
   "metadata": {},
   "outputs": [
    {
     "name": "stdout",
     "output_type": "stream",
     "text": [
      "32/32 [==============================] - 1s 15ms/step - loss: 6.6290 - accuracy: 0.0010\n",
      "[6.6289801597595215, 0.0010000000474974513]\n"
     ]
    }
   ],
   "source": [
    "results = model.evaluate(valid_seq_x, valid_y)\n",
    "\n",
    "print(results)\n"
   ]
  },
  {
   "cell_type": "code",
   "execution_count": null,
   "id": "empty-verse",
   "metadata": {},
   "outputs": [],
   "source": []
  }
 ],
 "metadata": {
  "kernelspec": {
   "display_name": "Python [conda env:.conda-myenv] *",
   "language": "python",
   "name": "conda-env-.conda-myenv-py"
  },
  "language_info": {
   "codemirror_mode": {
    "name": "ipython",
    "version": 3
   },
   "file_extension": ".py",
   "mimetype": "text/x-python",
   "name": "python",
   "nbconvert_exporter": "python",
   "pygments_lexer": "ipython3",
   "version": "3.8.5"
  }
 },
 "nbformat": 4,
 "nbformat_minor": 5
}
