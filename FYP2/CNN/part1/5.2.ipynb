{
 "cells": [
  {
   "cell_type": "code",
   "execution_count": 1,
   "id": "confirmed-impression",
   "metadata": {},
   "outputs": [
    {
     "name": "stderr",
     "output_type": "stream",
     "text": [
      "<ipython-input-1-fb534204403d>:10: TqdmDeprecationWarning: This function will be removed in tqdm==5.0.0\n",
      "Please use `tqdm.notebook.*` instead of `tqdm._tqdm_notebook.*`\n",
      "  from tqdm._tqdm_notebook import tqdm_notebook\n"
     ]
    }
   ],
   "source": [
    "import csv\n",
    "import tensorflow as tf\n",
    "import numpy as np\n",
    "import pandas as pd\n",
    "from tensorflow.keras.preprocessing.text import Tokenizer\n",
    "from keras.preprocessing import sequence\n",
    "from tensorflow.keras.preprocessing.sequence import pad_sequences\n",
    "from nltk.corpus import stopwords\n",
    "from sklearn.model_selection import train_test_split\n",
    "from tqdm._tqdm_notebook import tqdm_notebook\n",
    "from sklearn import model_selection, preprocessing\n",
    "from tqdm import tqdm\n",
    "import string\n",
    "import gensim.downloader as api\n",
    "STOPWORDS = set(stopwords.words('english'))\n",
    "import inspect\n",
    "import re as re\n",
    "from gensim.models import Word2Vec\n",
    "from keras.preprocessing.text import Tokenizer\n",
    "from keras.preprocessing import sequence\n",
    "from keras.models import Sequential\n",
    "from keras.layers import Dense, Dropout, Activation\n",
    "from keras.layers import Embedding\n",
    "from keras.layers import Conv1D, GlobalMaxPooling1D\n",
    "from keras.utils import np_utils\n",
    "from tensorflow import keras\n",
    "from sklearn.metrics import accuracy_score\n",
    "from sklearn.metrics import classification_report\n",
    "from sklearn.metrics import confusion_matrix\n",
    "from sklearn.metrics import cohen_kappa_score\n",
    "from sklearn.metrics import precision_score"
   ]
  },
  {
   "cell_type": "code",
   "execution_count": 2,
   "id": "presidential-thinking",
   "metadata": {},
   "outputs": [],
   "source": [
    "vocab_size = 45000\n",
    "embedding_dim = 512\n",
    "max_length = 100\n",
    "trunc_type = 'post'\n",
    "padding_type = 'post'\n",
    "oov_tok = '<OOV>'\n",
    "training_portion = .8"
   ]
  },
  {
   "cell_type": "code",
   "execution_count": 3,
   "id": "electric-crowd",
   "metadata": {},
   "outputs": [],
   "source": [
    "dataset = pd.read_csv('classifier_data_5.csv', header = 0, encoding= 'utf-8')\n",
    "dataset.drop(['Unnamed: 2','Unnamed: 3'], axis=1, inplace = True)"
   ]
  },
  {
   "cell_type": "code",
   "execution_count": 4,
   "id": "after-azerbaijan",
   "metadata": {},
   "outputs": [
    {
     "name": "stdout",
     "output_type": "stream",
     "text": [
      "                                            description  \\\n",
      "4576  Chrome Version       : 16.0.912.32 (Official B...   \n",
      "3457  Chrome Version       : 7.0.499.0When two diffe...   \n",
      "3879  Remove flag --disable-oobe-animation it is not...   \n",
      "788   Product Version      :0.2.149.27URLs (if appli...   \n",
      "307   Seems Linux only.Product, Version Chrome_Linux...   \n",
      "\n",
      "                       owner  \n",
      "4576        yoz@chromium.org  \n",
      "3457         aa@chromium.org  \n",
      "3879  dpolukhin@chromium.org  \n",
      "788     sgjesse@chromium.org  \n",
      "307       yu...@chromium.org  \n"
     ]
    }
   ],
   "source": [
    "X= dataset['description']\n",
    "y = dataset['owner']\n",
    "X_train, X_test, y_train, y_test = train_test_split(X, y, test_size=0.20, random_state=1500)\n",
    "X_train.shape\n",
    "df = pd.DataFrame(data=[X_train, y_train], index=[\"description\", \"owner\"]).T\n",
    "df = df.append(pd.DataFrame(data=[X_test, y_test], index=[\"description\", \"owner\"]).T)\n",
    "\n",
    "\n",
    "df = df.replace({np.nan: oov_tok})\n",
    "print(df.head())\n"
   ]
  },
  {
   "cell_type": "code",
   "execution_count": 5,
   "id": "understood-sailing",
   "metadata": {},
   "outputs": [],
   "source": [
    "\n",
    "df['char_count'] = df['description'].apply(len) # Number of characters in the string\n",
    "df['word_count'] = df['description'].apply(lambda x: len(x.split())) # Number of words in the string \n",
    "df['word_density'] = df['char_count'] / (df['word_count']+1) # Density of word (in char)\n",
    "df['title_word_count'] = df['description'].apply(lambda x: len([wrd for wrd in x.split() if wrd.istitle()]))\n",
    "\n",
    "labels = df['owner'].unique()\n",
    "\n",
    "def remove(list):\n",
    "    pattern='[0-9]'\n",
    "    list = [re.sub(pattern, '',i) for i in list]\n",
    "    return list"
   ]
  },
  {
   "cell_type": "code",
   "execution_count": 6,
   "id": "expressed-moore",
   "metadata": {},
   "outputs": [],
   "source": [
    "train_x, valid_x, y_train, y_valid = train_test_split(df['description'], df['owner'], random_state=42, test_size=0.2)\n",
    "\n",
    "token = Tokenizer()\n",
    "token.fit_on_texts(df['description'])\n",
    "word_index = token.word_index\n",
    "\n",
    "df['description']= remove(df['description'])\n",
    "encoder = preprocessing.LabelEncoder()\n",
    "# convert text to sequence of tokens and pad them to ensure equal length vectors \n",
    "train_seq_x = sequence.pad_sequences(token.texts_to_sequences(train_x), maxlen=300)\n",
    "valid_seq_x = sequence.pad_sequences(token.texts_to_sequences(valid_x), maxlen=300)\n",
    "\n",
    "\n",
    "train_y = encoder.fit_transform(y_train)\n",
    "valid_y = encoder.fit_transform(y_valid)\n",
    "\n",
    " \n",
    "es = tf.keras.callbacks.EarlyStopping(monitor='val_loss', mode='auto', patience=3)\n",
    "def create_conv_model(word_index, label, embedding_matrix, pre_trained=False):\n",
    "    '''\n",
    "    Function to generate a convulational neural network for binary or multiclass classification.\n",
    "    @param word_index: (matrix) unique token in corpus\n",
    "    @param label: (list) list of labels to determine if it,s a binary or multiclass\n",
    "    @param embedding_matrix: (matrix) matrix of integer for each word in the \n",
    "    @param pre_trained: (bool) determine if the model will use pretrained model\n",
    "    @return: (model) convulational neural network \n",
    "    '''\n",
    "    if pre_trained==False:\n",
    "        embedded = keras.layers.Embedding(len(word_index) +1, 100)\n",
    "    else:\n",
    "        embedded = keras.layers.Embedding(len(word_index) + 1, 300, weights=[embedding_matrix], trainable=False)\n",
    "    \n",
    "    model = keras.Sequential([\n",
    "    embedded,\n",
    "    keras.layers.Conv1D(100, 5, activation='relu'), # padding='same'\n",
    "    keras.layers.Dropout(0.2),\n",
    "    keras.layers.MaxPooling1D(pool_size=4),\n",
    "    keras.layers.Conv1D(64, 5, activation='relu'),\n",
    "    keras.layers.Dropout(0.2),\n",
    "    keras.layers.MaxPooling1D(pool_size=4),\n",
    "    keras.layers.Conv1D(32, 5, activation='relu'),\n",
    "    keras.layers.Dropout(0.2),\n",
    "    keras.layers.GlobalMaxPooling1D(),\n",
    "\n",
    "    keras.layers.Dense(1 if len(label)<=2 else len(label), activation='sigmoid' if len(label)<=2 else \"softmax\")])\n",
    "\n",
    "    if len(label)==2:\n",
    "        model.compile(optimizer=tf.keras.optimizers.RMSprop(lr=1e-4),\n",
    "              loss=tf.losses.BinaryCrossentropy(from_logits=True),\n",
    "              metrics=['accuracy'])\n",
    "    else: \n",
    "        model.compile(optimizer=tf.keras.optimizers.RMSprop(lr=1e-4),\n",
    "              loss=tf.losses.SparseCategoricalCrossentropy(from_logits=True),\n",
    "              metrics=['accuracy'])\n",
    "    \n",
    "    return model"
   ]
  },
  {
   "cell_type": "code",
   "execution_count": 7,
   "id": "intended-equation",
   "metadata": {},
   "outputs": [],
   "source": [
    "model = create_conv_model(word_index, labels, False)"
   ]
  },
  {
   "cell_type": "code",
   "execution_count": 8,
   "id": "still-accused",
   "metadata": {},
   "outputs": [
    {
     "name": "stdout",
     "output_type": "stream",
     "text": [
      "Epoch 1/20\n",
      "100/100 [==============================] - 12s 105ms/step - loss: 6.6906 - accuracy: 0.0194 - val_loss: 6.6719 - val_accuracy: 0.0362\n",
      "Epoch 2/20\n",
      "100/100 [==============================] - 10s 96ms/step - loss: 6.5907 - accuracy: 0.0357 - val_loss: 6.5065 - val_accuracy: 0.0362\n",
      "Epoch 3/20\n",
      "100/100 [==============================] - 10s 101ms/step - loss: 6.3446 - accuracy: 0.0362 - val_loss: 6.4232 - val_accuracy: 0.0362\n",
      "Epoch 4/20\n",
      "100/100 [==============================] - 10s 105ms/step - loss: 6.2136 - accuracy: 0.0305 - val_loss: 6.3785 - val_accuracy: 0.0362\n",
      "Epoch 5/20\n",
      "100/100 [==============================] - 17s 176ms/step - loss: 6.1447 - accuracy: 0.0339 - val_loss: 6.3259 - val_accuracy: 0.0362\n",
      "Epoch 6/20\n",
      "100/100 [==============================] - 12s 120ms/step - loss: 6.1493 - accuracy: 0.0306 - val_loss: 6.2903 - val_accuracy: 0.0362\n",
      "Epoch 7/20\n",
      "100/100 [==============================] - 10s 98ms/step - loss: 6.0376 - accuracy: 0.0303 - val_loss: 6.2777 - val_accuracy: 0.0362\n",
      "Epoch 8/20\n",
      "100/100 [==============================] - 10s 98ms/step - loss: 6.0056 - accuracy: 0.0325 - val_loss: 6.2587 - val_accuracy: 0.0362\n",
      "Epoch 9/20\n",
      "100/100 [==============================] - 10s 98ms/step - loss: 5.9606 - accuracy: 0.0355 - val_loss: 6.2616 - val_accuracy: 0.0362\n",
      "Epoch 10/20\n",
      "100/100 [==============================] - 10s 97ms/step - loss: 5.9555 - accuracy: 0.0352 - val_loss: 6.2460 - val_accuracy: 0.0362\n",
      "Epoch 11/20\n",
      "100/100 [==============================] - 10s 97ms/step - loss: 5.9266 - accuracy: 0.0316 - val_loss: 6.2493 - val_accuracy: 0.0362\n",
      "Epoch 12/20\n",
      "100/100 [==============================] - 10s 96ms/step - loss: 5.9271 - accuracy: 0.0335 - val_loss: 6.2425 - val_accuracy: 0.0362\n",
      "Epoch 13/20\n",
      "100/100 [==============================] - 10s 97ms/step - loss: 5.9232 - accuracy: 0.0323 - val_loss: 6.2363 - val_accuracy: 0.0375\n",
      "Epoch 14/20\n",
      "100/100 [==============================] - 10s 97ms/step - loss: 5.8805 - accuracy: 0.0379 - val_loss: 6.2406 - val_accuracy: 0.0400\n",
      "Epoch 15/20\n",
      "100/100 [==============================] - 11s 107ms/step - loss: 5.8864 - accuracy: 0.0373 - val_loss: 6.2386 - val_accuracy: 0.0413\n",
      "Epoch 16/20\n",
      "100/100 [==============================] - 10s 97ms/step - loss: 5.8710 - accuracy: 0.0382 - val_loss: 6.2361 - val_accuracy: 0.0437\n",
      "Epoch 17/20\n",
      "100/100 [==============================] - 19s 191ms/step - loss: 5.8759 - accuracy: 0.0384 - val_loss: 6.2320 - val_accuracy: 0.0437\n",
      "Epoch 18/20\n",
      "100/100 [==============================] - 19s 191ms/step - loss: 5.8280 - accuracy: 0.0406 - val_loss: 6.2307 - val_accuracy: 0.0437\n",
      "Epoch 19/20\n",
      "100/100 [==============================] - 16s 161ms/step - loss: 5.8498 - accuracy: 0.0430 - val_loss: 6.2252 - val_accuracy: 0.0437\n",
      "Epoch 20/20\n",
      "100/100 [==============================] - 16s 160ms/step - loss: 5.8002 - accuracy: 0.0440 - val_loss: 6.2227 - val_accuracy: 0.0437\n"
     ]
    }
   ],
   "source": [
    "history = model.fit(train_seq_x, train_y, epochs=20, callbacks=[es], validation_split=0.2)"
   ]
  },
  {
   "cell_type": "code",
   "execution_count": 9,
   "id": "chief-machine",
   "metadata": {},
   "outputs": [
    {
     "name": "stdout",
     "output_type": "stream",
     "text": [
      "32/32 [==============================] - 2s 32ms/step - loss: 7.1537 - accuracy: 0.0020\n",
      "[7.153653621673584, 0.0020000000949949026]\n"
     ]
    }
   ],
   "source": [
    "results = model.evaluate(valid_seq_x, valid_y)\n",
    "\n",
    "print(results)\n"
   ]
  },
  {
   "cell_type": "code",
   "execution_count": null,
   "id": "empty-verse",
   "metadata": {},
   "outputs": [],
   "source": []
  }
 ],
 "metadata": {
  "kernelspec": {
   "display_name": "Python [conda env:.conda-myenv] *",
   "language": "python",
   "name": "conda-env-.conda-myenv-py"
  },
  "language_info": {
   "codemirror_mode": {
    "name": "ipython",
    "version": 3
   },
   "file_extension": ".py",
   "mimetype": "text/x-python",
   "name": "python",
   "nbconvert_exporter": "python",
   "pygments_lexer": "ipython3",
   "version": "3.8.5"
  }
 },
 "nbformat": 4,
 "nbformat_minor": 5
}
