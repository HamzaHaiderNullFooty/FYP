{
 "cells": [
  {
   "cell_type": "code",
   "execution_count": 1,
   "id": "victorian-lindsay",
   "metadata": {},
   "outputs": [
    {
     "name": "stderr",
     "output_type": "stream",
     "text": [
      "<ipython-input-1-fb534204403d>:10: TqdmDeprecationWarning: This function will be removed in tqdm==5.0.0\n",
      "Please use `tqdm.notebook.*` instead of `tqdm._tqdm_notebook.*`\n",
      "  from tqdm._tqdm_notebook import tqdm_notebook\n"
     ]
    }
   ],
   "source": [
    "import csv\n",
    "import tensorflow as tf\n",
    "import numpy as np\n",
    "import pandas as pd\n",
    "from tensorflow.keras.preprocessing.text import Tokenizer\n",
    "from keras.preprocessing import sequence\n",
    "from tensorflow.keras.preprocessing.sequence import pad_sequences\n",
    "from nltk.corpus import stopwords\n",
    "from sklearn.model_selection import train_test_split\n",
    "from tqdm._tqdm_notebook import tqdm_notebook\n",
    "from sklearn import model_selection, preprocessing\n",
    "from tqdm import tqdm\n",
    "import string\n",
    "import gensim.downloader as api\n",
    "STOPWORDS = set(stopwords.words('english'))\n",
    "import inspect\n",
    "import re as re\n",
    "from gensim.models import Word2Vec\n",
    "from keras.preprocessing.text import Tokenizer\n",
    "from keras.preprocessing import sequence\n",
    "from keras.models import Sequential\n",
    "from keras.layers import Dense, Dropout, Activation\n",
    "from keras.layers import Embedding\n",
    "from keras.layers import Conv1D, GlobalMaxPooling1D\n",
    "from keras.utils import np_utils\n",
    "from tensorflow import keras\n",
    "from sklearn.metrics import accuracy_score\n",
    "from sklearn.metrics import classification_report\n",
    "from sklearn.metrics import confusion_matrix\n",
    "from sklearn.metrics import cohen_kappa_score\n",
    "from sklearn.metrics import precision_score"
   ]
  },
  {
   "cell_type": "code",
   "execution_count": 2,
   "id": "vertical-tuesday",
   "metadata": {},
   "outputs": [],
   "source": [
    "vocab_size = 45000\n",
    "embedding_dim = 512\n",
    "max_length = 100\n",
    "trunc_type = 'post'\n",
    "padding_type = 'post'\n",
    "oov_tok = '<OOV>'\n",
    "training_portion = .8"
   ]
  },
  {
   "cell_type": "code",
   "execution_count": 3,
   "id": "biblical-custody",
   "metadata": {},
   "outputs": [],
   "source": [
    "dataset = pd.read_csv('classifier_data_0.csv', header = 0, encoding= 'utf-8')\n"
   ]
  },
  {
   "cell_type": "code",
   "execution_count": 4,
   "id": "innovative-sudan",
   "metadata": {},
   "outputs": [
    {
     "name": "stdout",
     "output_type": "stream",
     "text": [
      "                                            description                  owner\n",
      "7288  Crash in SafeBrowsingStoreSqlite::WriteSubPref...     sh...@chromium.org\n",
      "1675  Buildbot commit log is inaccurate compared to ...      sosa@chromium.org\n",
      "1927  Renderer crash: WebCore::RenderBlock::deleteLi...    abarth@chromium.org\n",
      "1441                    Sync crashes soon after startup  tdibabie@chromium.org\n",
      "5481   Crash in ChromeAsyncSocket::DoClose() on Windows   annapop@chromium.org\n"
     ]
    }
   ],
   "source": [
    "X= dataset['description']\n",
    "y = dataset['owner']\n",
    "X_train, X_test, y_train, y_test = train_test_split(X, y, test_size=0.20, random_state=1500)\n",
    "X_train.shape\n",
    "df = pd.DataFrame(data=[X_train, y_train], index=[\"description\", \"owner\"]).T\n",
    "df = df.append(pd.DataFrame(data=[X_test, y_test], index=[\"description\", \"owner\"]).T)\n",
    "\n",
    "\n",
    "df = df.replace({np.nan: oov_tok})\n",
    "print(df.head())\n"
   ]
  },
  {
   "cell_type": "code",
   "execution_count": 5,
   "id": "handy-publisher",
   "metadata": {},
   "outputs": [],
   "source": [
    "\n",
    "df['char_count'] = df['description'].apply(len) # Number of characters in the string\n",
    "df['word_count'] = df['description'].apply(lambda x: len(x.split())) # Number of words in the string \n",
    "df['word_density'] = df['char_count'] / (df['word_count']+1) # Density of word (in char)\n",
    "df['title_word_count'] = df['description'].apply(lambda x: len([wrd for wrd in x.split() if wrd.istitle()]))\n",
    "\n",
    "labels = df['owner'].unique()\n",
    "\n",
    "def remove(list):\n",
    "    pattern='[0-9]'\n",
    "    list = [re.sub(pattern, '',i) for i in list]\n",
    "    return list"
   ]
  },
  {
   "cell_type": "code",
   "execution_count": 6,
   "id": "committed-textbook",
   "metadata": {
    "scrolled": false
   },
   "outputs": [],
   "source": [
    "train_x, valid_x, y_train, y_valid = train_test_split(df['description'], df['owner'], random_state=42, test_size=0.2)\n",
    "\n",
    "token = Tokenizer()\n",
    "token.fit_on_texts(df['description'])\n",
    "word_index = token.word_index\n",
    "\n",
    "df['description']= remove(df['description'])\n",
    "encoder = preprocessing.LabelEncoder()\n",
    "# convert text to sequence of tokens and pad them to ensure equal length vectors \n",
    "train_seq_x = sequence.pad_sequences(token.texts_to_sequences(train_x), maxlen=300)\n",
    "valid_seq_x = sequence.pad_sequences(token.texts_to_sequences(valid_x), maxlen=300)\n",
    "\n",
    "\n",
    "train_y = encoder.fit_transform(y_train)\n",
    "valid_y = encoder.fit_transform(y_valid)\n",
    "\n",
    " \n",
    "es = tf.keras.callbacks.EarlyStopping(monitor='val_loss', mode='auto', patience=3)\n",
    "def create_conv_model(word_index, label, embedding_matrix, pre_trained=False):\n",
    "    '''\n",
    "    Function to generate a convulational neural network for binary or multiclass classification.\n",
    "    @param word_index: (matrix) unique token in corpus\n",
    "    @param label: (list) list of labels to determine if it,s a binary or multiclass\n",
    "    @param embedding_matrix: (matrix) matrix of integer for each word in the \n",
    "    @param pre_trained: (bool) determine if the model will use pretrained model\n",
    "    @return: (model) convulational neural network \n",
    "    '''\n",
    "    if pre_trained==False:\n",
    "        embedded = keras.layers.Embedding(len(word_index) +1, 100)\n",
    "    else:\n",
    "        embedded = keras.layers.Embedding(len(word_index) + 1, 300, weights=[embedding_matrix], trainable=False)\n",
    "    \n",
    "    model = keras.Sequential([\n",
    "    embedded,\n",
    "    keras.layers.Conv1D(100, 5, activation='relu'), # padding='same'\n",
    "    keras.layers.Dropout(0.2),\n",
    "    keras.layers.MaxPooling1D(pool_size=4),\n",
    "    keras.layers.Conv1D(64, 5, activation='relu'),\n",
    "    keras.layers.Dropout(0.2),\n",
    "    keras.layers.MaxPooling1D(pool_size=4),\n",
    "    keras.layers.Conv1D(32, 5, activation='relu'),\n",
    "    keras.layers.Dropout(0.2),\n",
    "    keras.layers.GlobalMaxPooling1D(),\n",
    "\n",
    "    keras.layers.Dense(1 if len(label)<=2 else len(label), activation='sigmoid' if len(label)<=2 else \"softmax\")])\n",
    "\n",
    "    if len(label)==2:\n",
    "        model.compile(optimizer=tf.keras.optimizers.RMSprop(lr=1e-4),\n",
    "              loss=tf.losses.BinaryCrossentropy(from_logits=True),\n",
    "              metrics=['accuracy'])\n",
    "    else: \n",
    "        model.compile(optimizer=tf.keras.optimizers.RMSprop(lr=1e-4),\n",
    "              loss=tf.losses.SparseCategoricalCrossentropy(from_logits=True),\n",
    "              metrics=['accuracy'])\n",
    "    \n",
    "    return model"
   ]
  },
  {
   "cell_type": "code",
   "execution_count": 7,
   "id": "associate-criticism",
   "metadata": {},
   "outputs": [],
   "source": [
    "model = create_conv_model(word_index, labels, False)"
   ]
  },
  {
   "cell_type": "code",
   "execution_count": 8,
   "id": "arranged-robert",
   "metadata": {},
   "outputs": [
    {
     "name": "stdout",
     "output_type": "stream",
     "text": [
      "Epoch 1/20\n",
      "200/200 [==============================] - 32s 140ms/step - loss: 6.9150 - accuracy: 0.0032 - val_loss: 6.6862 - val_accuracy: 0.0181\n",
      "Epoch 2/20\n",
      "200/200 [==============================] - 14s 70ms/step - loss: 6.4768 - accuracy: 0.0177 - val_loss: 6.5205 - val_accuracy: 0.0300\n",
      "Epoch 3/20\n",
      "200/200 [==============================] - 14s 69ms/step - loss: 6.3162 - accuracy: 0.0264 - val_loss: 6.4362 - val_accuracy: 0.0300\n",
      "Epoch 4/20\n",
      "200/200 [==============================] - 14s 69ms/step - loss: 6.2079 - accuracy: 0.0306 - val_loss: 6.4300 - val_accuracy: 0.0300\n",
      "Epoch 5/20\n",
      "200/200 [==============================] - 14s 72ms/step - loss: 6.1766 - accuracy: 0.0287 - val_loss: 6.4317 - val_accuracy: 0.0300\n",
      "Epoch 6/20\n",
      "200/200 [==============================] - 15s 77ms/step - loss: 6.1888 - accuracy: 0.0260 - val_loss: 6.4239 - val_accuracy: 0.0300\n",
      "Epoch 7/20\n",
      "200/200 [==============================] - 15s 73ms/step - loss: 6.1784 - accuracy: 0.0274 - val_loss: 6.4208 - val_accuracy: 0.0300\n",
      "Epoch 8/20\n",
      "200/200 [==============================] - 15s 76ms/step - loss: 6.1566 - accuracy: 0.0307 - val_loss: 6.4117 - val_accuracy: 0.0300\n",
      "Epoch 9/20\n",
      "200/200 [==============================] - 14s 70ms/step - loss: 6.1651 - accuracy: 0.0269 - val_loss: 6.3916 - val_accuracy: 0.0300\n",
      "Epoch 10/20\n",
      "200/200 [==============================] - 14s 69ms/step - loss: 6.1305 - accuracy: 0.0305 - val_loss: 6.4180 - val_accuracy: 0.0300\n",
      "Epoch 11/20\n",
      "200/200 [==============================] - 14s 69ms/step - loss: 6.1511 - accuracy: 0.0288 - val_loss: 6.4266 - val_accuracy: 0.0300\n",
      "Epoch 12/20\n",
      "200/200 [==============================] - 14s 72ms/step - loss: 6.1522 - accuracy: 0.0234 - val_loss: 6.3960 - val_accuracy: 0.0300\n"
     ]
    }
   ],
   "source": [
    "history = model.fit(train_seq_x, train_y, epochs=20, callbacks=[es], validation_split=0.2)"
   ]
  },
  {
   "cell_type": "markdown",
   "id": "universal-cover",
   "metadata": {},
   "source": []
  },
  {
   "cell_type": "code",
   "execution_count": 9,
   "id": "opening-perfume",
   "metadata": {
    "scrolled": false
   },
   "outputs": [
    {
     "name": "stdout",
     "output_type": "stream",
     "text": [
      "63/63 [==============================] - 1s 14ms/step - loss: 7.1965 - accuracy: 5.0000e-04\n",
      "[7.196508407592773, 0.0005000000237487257]\n"
     ]
    }
   ],
   "source": [
    "results = model.evaluate(valid_seq_x, valid_y)\n",
    "\n",
    "print(results)\n"
   ]
  },
  {
   "cell_type": "code",
   "execution_count": null,
   "id": "behind-setup",
   "metadata": {},
   "outputs": [],
   "source": []
  },
  {
   "cell_type": "code",
   "execution_count": null,
   "id": "smaller-impact",
   "metadata": {},
   "outputs": [],
   "source": []
  },
  {
   "cell_type": "code",
   "execution_count": null,
   "id": "handed-sustainability",
   "metadata": {
    "scrolled": false
   },
   "outputs": [],
   "source": []
  },
  {
   "cell_type": "code",
   "execution_count": null,
   "id": "expressed-saturday",
   "metadata": {},
   "outputs": [],
   "source": []
  },
  {
   "cell_type": "code",
   "execution_count": null,
   "id": "sharing-polls",
   "metadata": {},
   "outputs": [],
   "source": []
  },
  {
   "cell_type": "code",
   "execution_count": null,
   "id": "optical-helmet",
   "metadata": {},
   "outputs": [],
   "source": []
  },
  {
   "cell_type": "code",
   "execution_count": null,
   "id": "muslim-investigation",
   "metadata": {},
   "outputs": [],
   "source": []
  },
  {
   "cell_type": "code",
   "execution_count": null,
   "id": "technical-personal",
   "metadata": {},
   "outputs": [],
   "source": []
  }
 ],
 "metadata": {
  "kernelspec": {
   "display_name": "Python [conda env:.conda-myenv] *",
   "language": "python",
   "name": "conda-env-.conda-myenv-py"
  },
  "language_info": {
   "codemirror_mode": {
    "name": "ipython",
    "version": 3
   },
   "file_extension": ".py",
   "mimetype": "text/x-python",
   "name": "python",
   "nbconvert_exporter": "python",
   "pygments_lexer": "ipython3",
   "version": "3.8.5"
  }
 },
 "nbformat": 4,
 "nbformat_minor": 5
}
